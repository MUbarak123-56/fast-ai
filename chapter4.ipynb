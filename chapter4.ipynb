{
  "nbformat": 4,
  "nbformat_minor": 0,
  "metadata": {
    "colab": {
      "provenance": [],
      "authorship_tag": "ABX9TyNeuB1Qlk1W3TNJzpcMgR86",
      "include_colab_link": true
    },
    "kernelspec": {
      "name": "python3",
      "display_name": "Python 3"
    },
    "language_info": {
      "name": "python"
    }
  },
  "cells": [
    {
      "cell_type": "markdown",
      "metadata": {
        "id": "view-in-github",
        "colab_type": "text"
      },
      "source": [
        "<a href=\"https://colab.research.google.com/github/MUbarak123-56/fast-ai/blob/master/chapter4.ipynb\" target=\"_parent\"><img src=\"https://colab.research.google.com/assets/colab-badge.svg\" alt=\"Open In Colab\"/></a>"
      ]
    },
    {
      "cell_type": "code",
      "execution_count": 1,
      "metadata": {
        "id": "HqouN39VeWtN"
      },
      "outputs": [],
      "source": [
        "!pip install -Uqq fastbook  "
      ]
    },
    {
      "cell_type": "code",
      "source": [
        "from fastbook import *\n",
        "from fastai.vision.widgets import *"
      ],
      "metadata": {
        "id": "8Oz-r0gPeapr"
      },
      "execution_count": 2,
      "outputs": []
    },
    {
      "cell_type": "code",
      "source": [
        "from fastai.vision.all import *\n",
        "path = untar_data(URLs.MNIST_SAMPLE)"
      ],
      "metadata": {
        "id": "0FZ6t_EZefrg"
      },
      "execution_count": 3,
      "outputs": []
    },
    {
      "cell_type": "code",
      "source": [
        "path.ls()"
      ],
      "metadata": {
        "colab": {
          "base_uri": "https://localhost:8080/"
        },
        "id": "7lCQ0w6bejiX",
        "outputId": "ad625223-310b-424d-e5d2-b78d127c7631"
      },
      "execution_count": 4,
      "outputs": [
        {
          "output_type": "execute_result",
          "data": {
            "text/plain": [
              "(#3) [Path('/root/.fastai/data/mnist_sample/train'),Path('/root/.fastai/data/mnist_sample/valid'),Path('/root/.fastai/data/mnist_sample/labels.csv')]"
            ]
          },
          "metadata": {},
          "execution_count": 4
        }
      ]
    },
    {
      "cell_type": "code",
      "source": [
        "(path/\"train\").ls()"
      ],
      "metadata": {
        "colab": {
          "base_uri": "https://localhost:8080/"
        },
        "id": "Q-l-HVfpfK51",
        "outputId": "e6d125b0-59cd-4ed2-d9c6-ed6e314e92ba"
      },
      "execution_count": 5,
      "outputs": [
        {
          "output_type": "execute_result",
          "data": {
            "text/plain": [
              "(#2) [Path('/root/.fastai/data/mnist_sample/train/7'),Path('/root/.fastai/data/mnist_sample/train/3')]"
            ]
          },
          "metadata": {},
          "execution_count": 5
        }
      ]
    },
    {
      "cell_type": "code",
      "source": [
        "threes = (path/\"train\"/\"3\").ls().sorted()\n",
        "sevens = (path/\"train\"/\"7\").ls().sorted()\n",
        "threes"
      ],
      "metadata": {
        "colab": {
          "base_uri": "https://localhost:8080/"
        },
        "id": "g6EApPFpfRj1",
        "outputId": "207039f4-a43e-4dc6-df5a-2b178ec79554"
      },
      "execution_count": 6,
      "outputs": [
        {
          "output_type": "execute_result",
          "data": {
            "text/plain": [
              "(#6131) [Path('/root/.fastai/data/mnist_sample/train/3/10.png'),Path('/root/.fastai/data/mnist_sample/train/3/10000.png'),Path('/root/.fastai/data/mnist_sample/train/3/10011.png'),Path('/root/.fastai/data/mnist_sample/train/3/10031.png'),Path('/root/.fastai/data/mnist_sample/train/3/10034.png'),Path('/root/.fastai/data/mnist_sample/train/3/10042.png'),Path('/root/.fastai/data/mnist_sample/train/3/10052.png'),Path('/root/.fastai/data/mnist_sample/train/3/1007.png'),Path('/root/.fastai/data/mnist_sample/train/3/10074.png'),Path('/root/.fastai/data/mnist_sample/train/3/10091.png')...]"
            ]
          },
          "metadata": {},
          "execution_count": 6
        }
      ]
    },
    {
      "cell_type": "code",
      "source": [
        "img_path = threes[1]\n",
        "img3 =Image.open(img_path)\n",
        "img3"
      ],
      "metadata": {
        "colab": {
          "base_uri": "https://localhost:8080/",
          "height": 45
        },
        "id": "PWpShju5fhty",
        "outputId": "f1f4e957-2f04-4959-c213-2a049f08bc1d"
      },
      "execution_count": 7,
      "outputs": [
        {
          "output_type": "execute_result",
          "data": {
            "text/plain": [
              "<PIL.PngImagePlugin.PngImageFile image mode=L size=28x28>"
            ],
            "image/png": "[encoded data removed]"
          },
          "metadata": {},
          "execution_count": 7
        }
      ]
    },
    {
      "cell_type": "code",
      "source": [
        "array(img3)[4:10,4:10]"
      ],
      "metadata": {
        "colab": {
          "base_uri": "https://localhost:8080/"
        },
        "id": "1yKLD5BmgdHj",
        "outputId": "4c713028-0603-4b6d-9adb-4433cb829489"
      },
      "execution_count": 8,
      "outputs": [
        {
          "output_type": "execute_result",
          "data": {
            "text/plain": [
              "array([[  0,   0,   0,   0,   0,   0],\n",
              "       [  0,   0,   0,   0,   0,  29],\n",
              "       [  0,   0,   0,  48, 166, 224],\n",
              "       [  0,  93, 244, 249, 253, 187],\n",
              "       [  0, 107, 253, 253, 230,  48],\n",
              "       [  0,   3,  20,  20,  15,   0]], dtype=uint8)"
            ]
          },
          "metadata": {},
          "execution_count": 8
        }
      ]
    },
    {
      "cell_type": "code",
      "source": [
        "tensor(img3)[4:10,4:10]"
      ],
      "metadata": {
        "colab": {
          "base_uri": "https://localhost:8080/"
        },
        "id": "yNaPP3-5gl4v",
        "outputId": "8240f025-411e-4006-a5e7-6d04e90d4fb7"
      },
      "execution_count": 9,
      "outputs": [
        {
          "output_type": "execute_result",
          "data": {
            "text/plain": [
              "tensor([[  0,   0,   0,   0,   0,   0],\n",
              "        [  0,   0,   0,   0,   0,  29],\n",
              "        [  0,   0,   0,  48, 166, 224],\n",
              "        [  0,  93, 244, 249, 253, 187],\n",
              "        [  0, 107, 253, 253, 230,  48],\n",
              "        [  0,   3,  20,  20,  15,   0]], dtype=torch.uint8)"
            ]
          },
          "metadata": {},
          "execution_count": 9
        }
      ]
    },
    {
      "cell_type": "code",
      "source": [
        "im3_t = tensor(img3)\n",
        "\n",
        "df = pd.DataFrame(im3_t[4:15,4:22])\n",
        "df.style.set_properties(**{'font-size':'6pt'}).background_gradient(\"Greys\")"
      ],
      "metadata": {
        "colab": {
          "base_uri": "https://localhost:8080/",
          "height": 394
        },
        "id": "WmGBPGfigtIz",
        "outputId": "abdbfb1e-01b0-4e53-b9c4-b44f4603c431"
      },
      "execution_count": 10,
      "outputs": [
        {
          "output_type": "execute_result",
          "data": {
            "text/plain": [
              "<pandas.io.formats.style.Styler at 0x7f4d70967850>"
            ],
            "text/html": [
              "<style type=\"text/css\">\n",
              "#T_b4445_row0_col0, #T_b4445_row0_col1, #T_b4445_row0_col2, #T_b4445_row0_col3, #T_b4445_row0_col4, #T_b4445_row0_col5, #T_b4445_row0_col6, #T_b4445_row0_col7, #T_b4445_row0_col8, #T_b4445_row0_col9, #T_b4445_row0_col10, #T_b4445_row0_col11, #T_b4445_row0_col12, #T_b4445_row0_col13, #T_b4445_row0_col14, #T_b4445_row0_col15, #T_b4445_row0_col16, #T_b4445_row0_col17, #T_b4445_row1_col0, #T_b4445_row1_col1, #T_b4445_row1_col2, #T_b4445_row1_col3, #T_b4445_row1_col4, #T_b4445_row1_col15, #T_b4445_row1_col16, #T_b4445_row1_col17, #T_b4445_row2_col0, #T_b4445_row2_col1, #T_b4445_row2_col2, #T_b4445_row2_col15, #T_b4445_row2_col16, #T_b4445_row2_col17, #T_b4445_row3_col0, #T_b4445_row3_col15, #T_b4445_row3_col16, #T_b4445_row3_col17, #T_b4445_row4_col0, #T_b4445_row4_col6, #T_b4445_row4_col7, #T_b4445_row4_col8, #T_b4445_row4_col9, #T_b4445_row4_col10, #T_b4445_row4_col15, #T_b4445_row4_col16, #T_b4445_row4_col17, #T_b4445_row5_col0, #T_b4445_row5_col5, #T_b4445_row5_col6, #T_b4445_row5_col7, #T_b4445_row5_col8, #T_b4445_row5_col9, #T_b4445_row5_col15, #T_b4445_row5_col16, #T_b4445_row5_col17, #T_b4445_row6_col0, #T_b4445_row6_col1, #T_b4445_row6_col2, #T_b4445_row6_col3, #T_b4445_row6_col4, #T_b4445_row6_col5, #T_b4445_row6_col6, #T_b4445_row6_col7, #T_b4445_row6_col8, #T_b4445_row6_col9, #T_b4445_row6_col14, #T_b4445_row6_col15, #T_b4445_row6_col16, #T_b4445_row6_col17, #T_b4445_row7_col0, #T_b4445_row7_col1, #T_b4445_row7_col2, #T_b4445_row7_col3, #T_b4445_row7_col4, #T_b4445_row7_col5, #T_b4445_row7_col6, #T_b4445_row7_col13, #T_b4445_row7_col14, #T_b4445_row7_col15, #T_b4445_row7_col16, #T_b4445_row7_col17, #T_b4445_row8_col0, #T_b4445_row8_col1, #T_b4445_row8_col2, #T_b4445_row8_col3, #T_b4445_row8_col4, #T_b4445_row8_col13, #T_b4445_row8_col14, #T_b4445_row8_col15, #T_b4445_row8_col16, #T_b4445_row8_col17, #T_b4445_row9_col0, #T_b4445_row9_col1, #T_b4445_row9_col2, #T_b4445_row9_col3, #T_b4445_row9_col4, #T_b4445_row9_col16, #T_b4445_row9_col17, #T_b4445_row10_col0, #T_b4445_row10_col1, #T_b4445_row10_col2, #T_b4445_row10_col3, #T_b4445_row10_col4, #T_b4445_row10_col5, #T_b4445_row10_col6, #T_b4445_row10_col17 {\n",
              "  font-size: 6pt;\n",
              "  background-color: #ffffff;\n",
              "  color: #000000;\n",
              "}\n",
              "#T_b4445_row1_col5 {\n",
              "  font-size: 6pt;\n",
              "  background-color: #efefef;\n",
              "  color: #000000;\n",
              "}\n",
              "#T_b4445_row1_col6, #T_b4445_row1_col13 {\n",
              "  font-size: 6pt;\n",
              "  background-color: #7c7c7c;\n",
              "  color: #f1f1f1;\n",
              "}\n",
              "#T_b4445_row1_col7 {\n",
              "  font-size: 6pt;\n",
              "  background-color: #4a4a4a;\n",
              "  color: #f1f1f1;\n",
              "}\n",
              "#T_b4445_row1_col8, #T_b4445_row1_col9, #T_b4445_row1_col10, #T_b4445_row2_col5, #T_b4445_row2_col6, #T_b4445_row2_col7, #T_b4445_row2_col11, #T_b4445_row2_col12, #T_b4445_row2_col13, #T_b4445_row3_col4, #T_b4445_row3_col12, #T_b4445_row3_col13, #T_b4445_row4_col1, #T_b4445_row4_col2, #T_b4445_row4_col3, #T_b4445_row4_col12, #T_b4445_row4_col13, #T_b4445_row5_col12, #T_b4445_row6_col11, #T_b4445_row9_col11, #T_b4445_row10_col11, #T_b4445_row10_col12, #T_b4445_row10_col13, #T_b4445_row10_col14, #T_b4445_row10_col15, #T_b4445_row10_col16 {\n",
              "  font-size: 6pt;\n",
              "  background-color: #000000;\n",
              "  color: #f1f1f1;\n",
              "}\n",
              "#T_b4445_row1_col11 {\n",
              "  font-size: 6pt;\n",
              "  background-color: #606060;\n",
              "  color: #f1f1f1;\n",
              "}\n",
              "#T_b4445_row1_col12 {\n",
              "  font-size: 6pt;\n",
              "  background-color: #4d4d4d;\n",
              "  color: #f1f1f1;\n",
              "}\n",
              "#T_b4445_row1_col14 {\n",
              "  font-size: 6pt;\n",
              "  background-color: #bbbbbb;\n",
              "  color: #000000;\n",
              "}\n",
              "#T_b4445_row2_col3 {\n",
              "  font-size: 6pt;\n",
              "  background-color: #e4e4e4;\n",
              "  color: #000000;\n",
              "}\n",
              "#T_b4445_row2_col4, #T_b4445_row8_col6 {\n",
              "  font-size: 6pt;\n",
              "  background-color: #6b6b6b;\n",
              "  color: #f1f1f1;\n",
              "}\n",
              "#T_b4445_row2_col8, #T_b4445_row2_col14, #T_b4445_row3_col14 {\n",
              "  font-size: 6pt;\n",
              "  background-color: #171717;\n",
              "  color: #f1f1f1;\n",
              "}\n",
              "#T_b4445_row2_col9, #T_b4445_row3_col11 {\n",
              "  font-size: 6pt;\n",
              "  background-color: #4b4b4b;\n",
              "  color: #f1f1f1;\n",
              "}\n",
              "#T_b4445_row2_col10, #T_b4445_row7_col10, #T_b4445_row8_col8, #T_b4445_row8_col10, #T_b4445_row9_col8, #T_b4445_row9_col10 {\n",
              "  font-size: 6pt;\n",
              "  background-color: #010101;\n",
              "  color: #f1f1f1;\n",
              "}\n",
              "#T_b4445_row3_col1 {\n",
              "  font-size: 6pt;\n",
              "  background-color: #272727;\n",
              "  color: #f1f1f1;\n",
              "}\n",
              "#T_b4445_row3_col2 {\n",
              "  font-size: 6pt;\n",
              "  background-color: #0a0a0a;\n",
              "  color: #f1f1f1;\n",
              "}\n",
              "#T_b4445_row3_col3 {\n",
              "  font-size: 6pt;\n",
              "  background-color: #050505;\n",
              "  color: #f1f1f1;\n",
              "}\n",
              "#T_b4445_row3_col5 {\n",
              "  font-size: 6pt;\n",
              "  background-color: #333333;\n",
              "  color: #f1f1f1;\n",
              "}\n",
              "#T_b4445_row3_col6 {\n",
              "  font-size: 6pt;\n",
              "  background-color: #e6e6e6;\n",
              "  color: #000000;\n",
              "}\n",
              "#T_b4445_row3_col7, #T_b4445_row3_col10 {\n",
              "  font-size: 6pt;\n",
              "  background-color: #fafafa;\n",
              "  color: #000000;\n",
              "}\n",
              "#T_b4445_row3_col8 {\n",
              "  font-size: 6pt;\n",
              "  background-color: #fbfbfb;\n",
              "  color: #000000;\n",
              "}\n",
              "#T_b4445_row3_col9 {\n",
              "  font-size: 6pt;\n",
              "  background-color: #fdfdfd;\n",
              "  color: #000000;\n",
              "}\n",
              "#T_b4445_row4_col4 {\n",
              "  font-size: 6pt;\n",
              "  background-color: #1b1b1b;\n",
              "  color: #f1f1f1;\n",
              "}\n",
              "#T_b4445_row4_col5 {\n",
              "  font-size: 6pt;\n",
              "  background-color: #e0e0e0;\n",
              "  color: #000000;\n",
              "}\n",
              "#T_b4445_row4_col11 {\n",
              "  font-size: 6pt;\n",
              "  background-color: #4e4e4e;\n",
              "  color: #f1f1f1;\n",
              "}\n",
              "#T_b4445_row4_col14 {\n",
              "  font-size: 6pt;\n",
              "  background-color: #767676;\n",
              "  color: #f1f1f1;\n",
              "}\n",
              "#T_b4445_row5_col1 {\n",
              "  font-size: 6pt;\n",
              "  background-color: #fcfcfc;\n",
              "  color: #000000;\n",
              "}\n",
              "#T_b4445_row5_col2, #T_b4445_row5_col3 {\n",
              "  font-size: 6pt;\n",
              "  background-color: #f6f6f6;\n",
              "  color: #000000;\n",
              "}\n",
              "#T_b4445_row5_col4, #T_b4445_row7_col7 {\n",
              "  font-size: 6pt;\n",
              "  background-color: #f8f8f8;\n",
              "  color: #000000;\n",
              "}\n",
              "#T_b4445_row5_col10, #T_b4445_row10_col7 {\n",
              "  font-size: 6pt;\n",
              "  background-color: #e8e8e8;\n",
              "  color: #000000;\n",
              "}\n",
              "#T_b4445_row5_col11 {\n",
              "  font-size: 6pt;\n",
              "  background-color: #222222;\n",
              "  color: #f1f1f1;\n",
              "}\n",
              "#T_b4445_row5_col13, #T_b4445_row6_col12 {\n",
              "  font-size: 6pt;\n",
              "  background-color: #090909;\n",
              "  color: #f1f1f1;\n",
              "}\n",
              "#T_b4445_row5_col14 {\n",
              "  font-size: 6pt;\n",
              "  background-color: #d0d0d0;\n",
              "  color: #000000;\n",
              "}\n",
              "#T_b4445_row6_col10, #T_b4445_row7_col11, #T_b4445_row9_col6 {\n",
              "  font-size: 6pt;\n",
              "  background-color: #060606;\n",
              "  color: #f1f1f1;\n",
              "}\n",
              "#T_b4445_row6_col13 {\n",
              "  font-size: 6pt;\n",
              "  background-color: #979797;\n",
              "  color: #f1f1f1;\n",
              "}\n",
              "#T_b4445_row7_col8 {\n",
              "  font-size: 6pt;\n",
              "  background-color: #b6b6b6;\n",
              "  color: #000000;\n",
              "}\n",
              "#T_b4445_row7_col9 {\n",
              "  font-size: 6pt;\n",
              "  background-color: #252525;\n",
              "  color: #f1f1f1;\n",
              "}\n",
              "#T_b4445_row7_col12 {\n",
              "  font-size: 6pt;\n",
              "  background-color: #999999;\n",
              "  color: #f1f1f1;\n",
              "}\n",
              "#T_b4445_row8_col5 {\n",
              "  font-size: 6pt;\n",
              "  background-color: #f9f9f9;\n",
              "  color: #000000;\n",
              "}\n",
              "#T_b4445_row8_col7 {\n",
              "  font-size: 6pt;\n",
              "  background-color: #101010;\n",
              "  color: #f1f1f1;\n",
              "}\n",
              "#T_b4445_row8_col9, #T_b4445_row9_col9 {\n",
              "  font-size: 6pt;\n",
              "  background-color: #020202;\n",
              "  color: #f1f1f1;\n",
              "}\n",
              "#T_b4445_row8_col11 {\n",
              "  font-size: 6pt;\n",
              "  background-color: #545454;\n",
              "  color: #f1f1f1;\n",
              "}\n",
              "#T_b4445_row8_col12 {\n",
              "  font-size: 6pt;\n",
              "  background-color: #f1f1f1;\n",
              "  color: #000000;\n",
              "}\n",
              "#T_b4445_row9_col5 {\n",
              "  font-size: 6pt;\n",
              "  background-color: #f7f7f7;\n",
              "  color: #000000;\n",
              "}\n",
              "#T_b4445_row9_col7 {\n",
              "  font-size: 6pt;\n",
              "  background-color: #030303;\n",
              "  color: #f1f1f1;\n",
              "}\n",
              "#T_b4445_row9_col12 {\n",
              "  font-size: 6pt;\n",
              "  background-color: #181818;\n",
              "  color: #f1f1f1;\n",
              "}\n",
              "#T_b4445_row9_col13 {\n",
              "  font-size: 6pt;\n",
              "  background-color: #303030;\n",
              "  color: #f1f1f1;\n",
              "}\n",
              "#T_b4445_row9_col14 {\n",
              "  font-size: 6pt;\n",
              "  background-color: #a9a9a9;\n",
              "  color: #f1f1f1;\n",
              "}\n",
              "#T_b4445_row9_col15 {\n",
              "  font-size: 6pt;\n",
              "  background-color: #fefefe;\n",
              "  color: #000000;\n",
              "}\n",
              "#T_b4445_row10_col8, #T_b4445_row10_col9 {\n",
              "  font-size: 6pt;\n",
              "  background-color: #bababa;\n",
              "  color: #000000;\n",
              "}\n",
              "#T_b4445_row10_col10 {\n",
              "  font-size: 6pt;\n",
              "  background-color: #393939;\n",
              "  color: #f1f1f1;\n",
              "}\n",
              "</style>\n",
              "<table id=\"T_b4445_\" class=\"dataframe\">\n",
              "  <thead>\n",
              "    <tr>\n",
              "      <th class=\"blank level0\" >&nbsp;</th>\n",
              "      <th class=\"col_heading level0 col0\" >0</th>\n",
              "      <th class=\"col_heading level0 col1\" >1</th>\n",
              "      <th class=\"col_heading level0 col2\" >2</th>\n",
              "      <th class=\"col_heading level0 col3\" >3</th>\n",
              "      <th class=\"col_heading level0 col4\" >4</th>\n",
              "      <th class=\"col_heading level0 col5\" >5</th>\n",
              "      <th class=\"col_heading level0 col6\" >6</th>\n",
              "      <th class=\"col_heading level0 col7\" >7</th>\n",
              "      <th class=\"col_heading level0 col8\" >8</th>\n",
              "      <th class=\"col_heading level0 col9\" >9</th>\n",
              "      <th class=\"col_heading level0 col10\" >10</th>\n",
              "      <th class=\"col_heading level0 col11\" >11</th>\n",
              "      <th class=\"col_heading level0 col12\" >12</th>\n",
              "      <th class=\"col_heading level0 col13\" >13</th>\n",
              "      <th class=\"col_heading level0 col14\" >14</th>\n",
              "      <th class=\"col_heading level0 col15\" >15</th>\n",
              "      <th class=\"col_heading level0 col16\" >16</th>\n",
              "      <th class=\"col_heading level0 col17\" >17</th>\n",
              "    </tr>\n",
              "  </thead>\n",
              "  <tbody>\n",
              "    <tr>\n",
              "      <th id=\"T_b4445_level0_row0\" class=\"row_heading level0 row0\" >0</th>\n",
              "      <td id=\"T_b4445_row0_col0\" class=\"data row0 col0\" >0</td>\n",
              "      <td id=\"T_b4445_row0_col1\" class=\"data row0 col1\" >0</td>\n",
              "      <td id=\"T_b4445_row0_col2\" class=\"data row0 col2\" >0</td>\n",
              "      <td id=\"T_b4445_row0_col3\" class=\"data row0 col3\" >0</td>\n",
              "      <td id=\"T_b4445_row0_col4\" class=\"data row0 col4\" >0</td>\n",
              "      <td id=\"T_b4445_row0_col5\" class=\"data row0 col5\" >0</td>\n",
              "      <td id=\"T_b4445_row0_col6\" class=\"data row0 col6\" >0</td>\n",
              "      <td id=\"T_b4445_row0_col7\" class=\"data row0 col7\" >0</td>\n",
              "      <td id=\"T_b4445_row0_col8\" class=\"data row0 col8\" >0</td>\n",
              "      <td id=\"T_b4445_row0_col9\" class=\"data row0 col9\" >0</td>\n",
              "      <td id=\"T_b4445_row0_col10\" class=\"data row0 col10\" >0</td>\n",
              "      <td id=\"T_b4445_row0_col11\" class=\"data row0 col11\" >0</td>\n",
              "      <td id=\"T_b4445_row0_col12\" class=\"data row0 col12\" >0</td>\n",
              "      <td id=\"T_b4445_row0_col13\" class=\"data row0 col13\" >0</td>\n",
              "      <td id=\"T_b4445_row0_col14\" class=\"data row0 col14\" >0</td>\n",
              "      <td id=\"T_b4445_row0_col15\" class=\"data row0 col15\" >0</td>\n",
              "      <td id=\"T_b4445_row0_col16\" class=\"data row0 col16\" >0</td>\n",
              "      <td id=\"T_b4445_row0_col17\" class=\"data row0 col17\" >0</td>\n",
              "    </tr>\n",
              "    <tr>\n",
              "      <th id=\"T_b4445_level0_row1\" class=\"row_heading level0 row1\" >1</th>\n",
              "      <td id=\"T_b4445_row1_col0\" class=\"data row1 col0\" >0</td>\n",
              "      <td id=\"T_b4445_row1_col1\" class=\"data row1 col1\" >0</td>\n",
              "      <td id=\"T_b4445_row1_col2\" class=\"data row1 col2\" >0</td>\n",
              "      <td id=\"T_b4445_row1_col3\" class=\"data row1 col3\" >0</td>\n",
              "      <td id=\"T_b4445_row1_col4\" class=\"data row1 col4\" >0</td>\n",
              "      <td id=\"T_b4445_row1_col5\" class=\"data row1 col5\" >29</td>\n",
              "      <td id=\"T_b4445_row1_col6\" class=\"data row1 col6\" >150</td>\n",
              "      <td id=\"T_b4445_row1_col7\" class=\"data row1 col7\" >195</td>\n",
              "      <td id=\"T_b4445_row1_col8\" class=\"data row1 col8\" >254</td>\n",
              "      <td id=\"T_b4445_row1_col9\" class=\"data row1 col9\" >255</td>\n",
              "      <td id=\"T_b4445_row1_col10\" class=\"data row1 col10\" >254</td>\n",
              "      <td id=\"T_b4445_row1_col11\" class=\"data row1 col11\" >176</td>\n",
              "      <td id=\"T_b4445_row1_col12\" class=\"data row1 col12\" >193</td>\n",
              "      <td id=\"T_b4445_row1_col13\" class=\"data row1 col13\" >150</td>\n",
              "      <td id=\"T_b4445_row1_col14\" class=\"data row1 col14\" >96</td>\n",
              "      <td id=\"T_b4445_row1_col15\" class=\"data row1 col15\" >0</td>\n",
              "      <td id=\"T_b4445_row1_col16\" class=\"data row1 col16\" >0</td>\n",
              "      <td id=\"T_b4445_row1_col17\" class=\"data row1 col17\" >0</td>\n",
              "    </tr>\n",
              "    <tr>\n",
              "      <th id=\"T_b4445_level0_row2\" class=\"row_heading level0 row2\" >2</th>\n",
              "      <td id=\"T_b4445_row2_col0\" class=\"data row2 col0\" >0</td>\n",
              "      <td id=\"T_b4445_row2_col1\" class=\"data row2 col1\" >0</td>\n",
              "      <td id=\"T_b4445_row2_col2\" class=\"data row2 col2\" >0</td>\n",
              "      <td id=\"T_b4445_row2_col3\" class=\"data row2 col3\" >48</td>\n",
              "      <td id=\"T_b4445_row2_col4\" class=\"data row2 col4\" >166</td>\n",
              "      <td id=\"T_b4445_row2_col5\" class=\"data row2 col5\" >224</td>\n",
              "      <td id=\"T_b4445_row2_col6\" class=\"data row2 col6\" >253</td>\n",
              "      <td id=\"T_b4445_row2_col7\" class=\"data row2 col7\" >253</td>\n",
              "      <td id=\"T_b4445_row2_col8\" class=\"data row2 col8\" >234</td>\n",
              "      <td id=\"T_b4445_row2_col9\" class=\"data row2 col9\" >196</td>\n",
              "      <td id=\"T_b4445_row2_col10\" class=\"data row2 col10\" >253</td>\n",
              "      <td id=\"T_b4445_row2_col11\" class=\"data row2 col11\" >253</td>\n",
              "      <td id=\"T_b4445_row2_col12\" class=\"data row2 col12\" >253</td>\n",
              "      <td id=\"T_b4445_row2_col13\" class=\"data row2 col13\" >253</td>\n",
              "      <td id=\"T_b4445_row2_col14\" class=\"data row2 col14\" >233</td>\n",
              "      <td id=\"T_b4445_row2_col15\" class=\"data row2 col15\" >0</td>\n",
              "      <td id=\"T_b4445_row2_col16\" class=\"data row2 col16\" >0</td>\n",
              "      <td id=\"T_b4445_row2_col17\" class=\"data row2 col17\" >0</td>\n",
              "    </tr>\n",
              "    <tr>\n",
              "      <th id=\"T_b4445_level0_row3\" class=\"row_heading level0 row3\" >3</th>\n",
              "      <td id=\"T_b4445_row3_col0\" class=\"data row3 col0\" >0</td>\n",
              "      <td id=\"T_b4445_row3_col1\" class=\"data row3 col1\" >93</td>\n",
              "      <td id=\"T_b4445_row3_col2\" class=\"data row3 col2\" >244</td>\n",
              "      <td id=\"T_b4445_row3_col3\" class=\"data row3 col3\" >249</td>\n",
              "      <td id=\"T_b4445_row3_col4\" class=\"data row3 col4\" >253</td>\n",
              "      <td id=\"T_b4445_row3_col5\" class=\"data row3 col5\" >187</td>\n",
              "      <td id=\"T_b4445_row3_col6\" class=\"data row3 col6\" >46</td>\n",
              "      <td id=\"T_b4445_row3_col7\" class=\"data row3 col7\" >10</td>\n",
              "      <td id=\"T_b4445_row3_col8\" class=\"data row3 col8\" >8</td>\n",
              "      <td id=\"T_b4445_row3_col9\" class=\"data row3 col9\" >4</td>\n",
              "      <td id=\"T_b4445_row3_col10\" class=\"data row3 col10\" >10</td>\n",
              "      <td id=\"T_b4445_row3_col11\" class=\"data row3 col11\" >194</td>\n",
              "      <td id=\"T_b4445_row3_col12\" class=\"data row3 col12\" >253</td>\n",
              "      <td id=\"T_b4445_row3_col13\" class=\"data row3 col13\" >253</td>\n",
              "      <td id=\"T_b4445_row3_col14\" class=\"data row3 col14\" >233</td>\n",
              "      <td id=\"T_b4445_row3_col15\" class=\"data row3 col15\" >0</td>\n",
              "      <td id=\"T_b4445_row3_col16\" class=\"data row3 col16\" >0</td>\n",
              "      <td id=\"T_b4445_row3_col17\" class=\"data row3 col17\" >0</td>\n",
              "    </tr>\n",
              "    <tr>\n",
              "      <th id=\"T_b4445_level0_row4\" class=\"row_heading level0 row4\" >4</th>\n",
              "      <td id=\"T_b4445_row4_col0\" class=\"data row4 col0\" >0</td>\n",
              "      <td id=\"T_b4445_row4_col1\" class=\"data row4 col1\" >107</td>\n",
              "      <td id=\"T_b4445_row4_col2\" class=\"data row4 col2\" >253</td>\n",
              "      <td id=\"T_b4445_row4_col3\" class=\"data row4 col3\" >253</td>\n",
              "      <td id=\"T_b4445_row4_col4\" class=\"data row4 col4\" >230</td>\n",
              "      <td id=\"T_b4445_row4_col5\" class=\"data row4 col5\" >48</td>\n",
              "      <td id=\"T_b4445_row4_col6\" class=\"data row4 col6\" >0</td>\n",
              "      <td id=\"T_b4445_row4_col7\" class=\"data row4 col7\" >0</td>\n",
              "      <td id=\"T_b4445_row4_col8\" class=\"data row4 col8\" >0</td>\n",
              "      <td id=\"T_b4445_row4_col9\" class=\"data row4 col9\" >0</td>\n",
              "      <td id=\"T_b4445_row4_col10\" class=\"data row4 col10\" >0</td>\n",
              "      <td id=\"T_b4445_row4_col11\" class=\"data row4 col11\" >192</td>\n",
              "      <td id=\"T_b4445_row4_col12\" class=\"data row4 col12\" >253</td>\n",
              "      <td id=\"T_b4445_row4_col13\" class=\"data row4 col13\" >253</td>\n",
              "      <td id=\"T_b4445_row4_col14\" class=\"data row4 col14\" >156</td>\n",
              "      <td id=\"T_b4445_row4_col15\" class=\"data row4 col15\" >0</td>\n",
              "      <td id=\"T_b4445_row4_col16\" class=\"data row4 col16\" >0</td>\n",
              "      <td id=\"T_b4445_row4_col17\" class=\"data row4 col17\" >0</td>\n",
              "    </tr>\n",
              "    <tr>\n",
              "      <th id=\"T_b4445_level0_row5\" class=\"row_heading level0 row5\" >5</th>\n",
              "      <td id=\"T_b4445_row5_col0\" class=\"data row5 col0\" >0</td>\n",
              "      <td id=\"T_b4445_row5_col1\" class=\"data row5 col1\" >3</td>\n",
              "      <td id=\"T_b4445_row5_col2\" class=\"data row5 col2\" >20</td>\n",
              "      <td id=\"T_b4445_row5_col3\" class=\"data row5 col3\" >20</td>\n",
              "      <td id=\"T_b4445_row5_col4\" class=\"data row5 col4\" >15</td>\n",
              "      <td id=\"T_b4445_row5_col5\" class=\"data row5 col5\" >0</td>\n",
              "      <td id=\"T_b4445_row5_col6\" class=\"data row5 col6\" >0</td>\n",
              "      <td id=\"T_b4445_row5_col7\" class=\"data row5 col7\" >0</td>\n",
              "      <td id=\"T_b4445_row5_col8\" class=\"data row5 col8\" >0</td>\n",
              "      <td id=\"T_b4445_row5_col9\" class=\"data row5 col9\" >0</td>\n",
              "      <td id=\"T_b4445_row5_col10\" class=\"data row5 col10\" >43</td>\n",
              "      <td id=\"T_b4445_row5_col11\" class=\"data row5 col11\" >224</td>\n",
              "      <td id=\"T_b4445_row5_col12\" class=\"data row5 col12\" >253</td>\n",
              "      <td id=\"T_b4445_row5_col13\" class=\"data row5 col13\" >245</td>\n",
              "      <td id=\"T_b4445_row5_col14\" class=\"data row5 col14\" >74</td>\n",
              "      <td id=\"T_b4445_row5_col15\" class=\"data row5 col15\" >0</td>\n",
              "      <td id=\"T_b4445_row5_col16\" class=\"data row5 col16\" >0</td>\n",
              "      <td id=\"T_b4445_row5_col17\" class=\"data row5 col17\" >0</td>\n",
              "    </tr>\n",
              "    <tr>\n",
              "      <th id=\"T_b4445_level0_row6\" class=\"row_heading level0 row6\" >6</th>\n",
              "      <td id=\"T_b4445_row6_col0\" class=\"data row6 col0\" >0</td>\n",
              "      <td id=\"T_b4445_row6_col1\" class=\"data row6 col1\" >0</td>\n",
              "      <td id=\"T_b4445_row6_col2\" class=\"data row6 col2\" >0</td>\n",
              "      <td id=\"T_b4445_row6_col3\" class=\"data row6 col3\" >0</td>\n",
              "      <td id=\"T_b4445_row6_col4\" class=\"data row6 col4\" >0</td>\n",
              "      <td id=\"T_b4445_row6_col5\" class=\"data row6 col5\" >0</td>\n",
              "      <td id=\"T_b4445_row6_col6\" class=\"data row6 col6\" >0</td>\n",
              "      <td id=\"T_b4445_row6_col7\" class=\"data row6 col7\" >0</td>\n",
              "      <td id=\"T_b4445_row6_col8\" class=\"data row6 col8\" >0</td>\n",
              "      <td id=\"T_b4445_row6_col9\" class=\"data row6 col9\" >0</td>\n",
              "      <td id=\"T_b4445_row6_col10\" class=\"data row6 col10\" >249</td>\n",
              "      <td id=\"T_b4445_row6_col11\" class=\"data row6 col11\" >253</td>\n",
              "      <td id=\"T_b4445_row6_col12\" class=\"data row6 col12\" >245</td>\n",
              "      <td id=\"T_b4445_row6_col13\" class=\"data row6 col13\" >126</td>\n",
              "      <td id=\"T_b4445_row6_col14\" class=\"data row6 col14\" >0</td>\n",
              "      <td id=\"T_b4445_row6_col15\" class=\"data row6 col15\" >0</td>\n",
              "      <td id=\"T_b4445_row6_col16\" class=\"data row6 col16\" >0</td>\n",
              "      <td id=\"T_b4445_row6_col17\" class=\"data row6 col17\" >0</td>\n",
              "    </tr>\n",
              "    <tr>\n",
              "      <th id=\"T_b4445_level0_row7\" class=\"row_heading level0 row7\" >7</th>\n",
              "      <td id=\"T_b4445_row7_col0\" class=\"data row7 col0\" >0</td>\n",
              "      <td id=\"T_b4445_row7_col1\" class=\"data row7 col1\" >0</td>\n",
              "      <td id=\"T_b4445_row7_col2\" class=\"data row7 col2\" >0</td>\n",
              "      <td id=\"T_b4445_row7_col3\" class=\"data row7 col3\" >0</td>\n",
              "      <td id=\"T_b4445_row7_col4\" class=\"data row7 col4\" >0</td>\n",
              "      <td id=\"T_b4445_row7_col5\" class=\"data row7 col5\" >0</td>\n",
              "      <td id=\"T_b4445_row7_col6\" class=\"data row7 col6\" >0</td>\n",
              "      <td id=\"T_b4445_row7_col7\" class=\"data row7 col7\" >14</td>\n",
              "      <td id=\"T_b4445_row7_col8\" class=\"data row7 col8\" >101</td>\n",
              "      <td id=\"T_b4445_row7_col9\" class=\"data row7 col9\" >223</td>\n",
              "      <td id=\"T_b4445_row7_col10\" class=\"data row7 col10\" >253</td>\n",
              "      <td id=\"T_b4445_row7_col11\" class=\"data row7 col11\" >248</td>\n",
              "      <td id=\"T_b4445_row7_col12\" class=\"data row7 col12\" >124</td>\n",
              "      <td id=\"T_b4445_row7_col13\" class=\"data row7 col13\" >0</td>\n",
              "      <td id=\"T_b4445_row7_col14\" class=\"data row7 col14\" >0</td>\n",
              "      <td id=\"T_b4445_row7_col15\" class=\"data row7 col15\" >0</td>\n",
              "      <td id=\"T_b4445_row7_col16\" class=\"data row7 col16\" >0</td>\n",
              "      <td id=\"T_b4445_row7_col17\" class=\"data row7 col17\" >0</td>\n",
              "    </tr>\n",
              "    <tr>\n",
              "      <th id=\"T_b4445_level0_row8\" class=\"row_heading level0 row8\" >8</th>\n",
              "      <td id=\"T_b4445_row8_col0\" class=\"data row8 col0\" >0</td>\n",
              "      <td id=\"T_b4445_row8_col1\" class=\"data row8 col1\" >0</td>\n",
              "      <td id=\"T_b4445_row8_col2\" class=\"data row8 col2\" >0</td>\n",
              "      <td id=\"T_b4445_row8_col3\" class=\"data row8 col3\" >0</td>\n",
              "      <td id=\"T_b4445_row8_col4\" class=\"data row8 col4\" >0</td>\n",
              "      <td id=\"T_b4445_row8_col5\" class=\"data row8 col5\" >11</td>\n",
              "      <td id=\"T_b4445_row8_col6\" class=\"data row8 col6\" >166</td>\n",
              "      <td id=\"T_b4445_row8_col7\" class=\"data row8 col7\" >239</td>\n",
              "      <td id=\"T_b4445_row8_col8\" class=\"data row8 col8\" >253</td>\n",
              "      <td id=\"T_b4445_row8_col9\" class=\"data row8 col9\" >253</td>\n",
              "      <td id=\"T_b4445_row8_col10\" class=\"data row8 col10\" >253</td>\n",
              "      <td id=\"T_b4445_row8_col11\" class=\"data row8 col11\" >187</td>\n",
              "      <td id=\"T_b4445_row8_col12\" class=\"data row8 col12\" >30</td>\n",
              "      <td id=\"T_b4445_row8_col13\" class=\"data row8 col13\" >0</td>\n",
              "      <td id=\"T_b4445_row8_col14\" class=\"data row8 col14\" >0</td>\n",
              "      <td id=\"T_b4445_row8_col15\" class=\"data row8 col15\" >0</td>\n",
              "      <td id=\"T_b4445_row8_col16\" class=\"data row8 col16\" >0</td>\n",
              "      <td id=\"T_b4445_row8_col17\" class=\"data row8 col17\" >0</td>\n",
              "    </tr>\n",
              "    <tr>\n",
              "      <th id=\"T_b4445_level0_row9\" class=\"row_heading level0 row9\" >9</th>\n",
              "      <td id=\"T_b4445_row9_col0\" class=\"data row9 col0\" >0</td>\n",
              "      <td id=\"T_b4445_row9_col1\" class=\"data row9 col1\" >0</td>\n",
              "      <td id=\"T_b4445_row9_col2\" class=\"data row9 col2\" >0</td>\n",
              "      <td id=\"T_b4445_row9_col3\" class=\"data row9 col3\" >0</td>\n",
              "      <td id=\"T_b4445_row9_col4\" class=\"data row9 col4\" >0</td>\n",
              "      <td id=\"T_b4445_row9_col5\" class=\"data row9 col5\" >16</td>\n",
              "      <td id=\"T_b4445_row9_col6\" class=\"data row9 col6\" >248</td>\n",
              "      <td id=\"T_b4445_row9_col7\" class=\"data row9 col7\" >250</td>\n",
              "      <td id=\"T_b4445_row9_col8\" class=\"data row9 col8\" >253</td>\n",
              "      <td id=\"T_b4445_row9_col9\" class=\"data row9 col9\" >253</td>\n",
              "      <td id=\"T_b4445_row9_col10\" class=\"data row9 col10\" >253</td>\n",
              "      <td id=\"T_b4445_row9_col11\" class=\"data row9 col11\" >253</td>\n",
              "      <td id=\"T_b4445_row9_col12\" class=\"data row9 col12\" >232</td>\n",
              "      <td id=\"T_b4445_row9_col13\" class=\"data row9 col13\" >213</td>\n",
              "      <td id=\"T_b4445_row9_col14\" class=\"data row9 col14\" >111</td>\n",
              "      <td id=\"T_b4445_row9_col15\" class=\"data row9 col15\" >2</td>\n",
              "      <td id=\"T_b4445_row9_col16\" class=\"data row9 col16\" >0</td>\n",
              "      <td id=\"T_b4445_row9_col17\" class=\"data row9 col17\" >0</td>\n",
              "    </tr>\n",
              "    <tr>\n",
              "      <th id=\"T_b4445_level0_row10\" class=\"row_heading level0 row10\" >10</th>\n",
              "      <td id=\"T_b4445_row10_col0\" class=\"data row10 col0\" >0</td>\n",
              "      <td id=\"T_b4445_row10_col1\" class=\"data row10 col1\" >0</td>\n",
              "      <td id=\"T_b4445_row10_col2\" class=\"data row10 col2\" >0</td>\n",
              "      <td id=\"T_b4445_row10_col3\" class=\"data row10 col3\" >0</td>\n",
              "      <td id=\"T_b4445_row10_col4\" class=\"data row10 col4\" >0</td>\n",
              "      <td id=\"T_b4445_row10_col5\" class=\"data row10 col5\" >0</td>\n",
              "      <td id=\"T_b4445_row10_col6\" class=\"data row10 col6\" >0</td>\n",
              "      <td id=\"T_b4445_row10_col7\" class=\"data row10 col7\" >43</td>\n",
              "      <td id=\"T_b4445_row10_col8\" class=\"data row10 col8\" >98</td>\n",
              "      <td id=\"T_b4445_row10_col9\" class=\"data row10 col9\" >98</td>\n",
              "      <td id=\"T_b4445_row10_col10\" class=\"data row10 col10\" >208</td>\n",
              "      <td id=\"T_b4445_row10_col11\" class=\"data row10 col11\" >253</td>\n",
              "      <td id=\"T_b4445_row10_col12\" class=\"data row10 col12\" >253</td>\n",
              "      <td id=\"T_b4445_row10_col13\" class=\"data row10 col13\" >253</td>\n",
              "      <td id=\"T_b4445_row10_col14\" class=\"data row10 col14\" >253</td>\n",
              "      <td id=\"T_b4445_row10_col15\" class=\"data row10 col15\" >187</td>\n",
              "      <td id=\"T_b4445_row10_col16\" class=\"data row10 col16\" >22</td>\n",
              "      <td id=\"T_b4445_row10_col17\" class=\"data row10 col17\" >0</td>\n",
              "    </tr>\n",
              "  </tbody>\n",
              "</table>\n"
            ]
          },
          "metadata": {},
          "execution_count": 10
        }
      ]
    },
    {
      "cell_type": "code",
      "source": [
        "seven_tensors = [tensor(Image.open(o)) for o in sevens]\n",
        "three_tensors = [tensor(Image.open(o)) for o in threes]\n",
        "len(three_tensors), len(seven_tensors)"
      ],
      "metadata": {
        "colab": {
          "base_uri": "https://localhost:8080/"
        },
        "id": "YX285Lfqhldc",
        "outputId": "b39ba7c5-b49e-4a73-8505-be7a13c1a9ec"
      },
      "execution_count": 11,
      "outputs": [
        {
          "output_type": "execute_result",
          "data": {
            "text/plain": [
              "(6131, 6265)"
            ]
          },
          "metadata": {},
          "execution_count": 11
        }
      ]
    },
    {
      "cell_type": "code",
      "source": [
        "stacked_sevens = torch.stack(seven_tensors).float()/255\n",
        "stacked_threes = torch.stack(three_tensors).float()/255\n",
        "stacked_threes.shape"
      ],
      "metadata": {
        "colab": {
          "base_uri": "https://localhost:8080/"
        },
        "id": "KHm0k3AxjPkx",
        "outputId": "8943a19e-f69e-4823-d3c5-4c6fcc4e7e56"
      },
      "execution_count": 12,
      "outputs": [
        {
          "output_type": "execute_result",
          "data": {
            "text/plain": [
              "torch.Size([6131, 28, 28])"
            ]
          },
          "metadata": {},
          "execution_count": 12
        }
      ]
    },
    {
      "cell_type": "code",
      "source": [
        "stacked_threes.shape"
      ],
      "metadata": {
        "colab": {
          "base_uri": "https://localhost:8080/"
        },
        "id": "n8MLnMY4j6af",
        "outputId": "737c5899-3258-4a6a-8432-e2a2b1750a51"
      },
      "execution_count": 13,
      "outputs": [
        {
          "output_type": "execute_result",
          "data": {
            "text/plain": [
              "torch.Size([6131, 28, 28])"
            ]
          },
          "metadata": {},
          "execution_count": 13
        }
      ]
    },
    {
      "cell_type": "code",
      "source": [
        "stacked_threes.ndim"
      ],
      "metadata": {
        "colab": {
          "base_uri": "https://localhost:8080/"
        },
        "id": "4QksbFkAkAHH",
        "outputId": "6c364d55-6c6c-4c54-96eb-9a777c46c437"
      },
      "execution_count": 14,
      "outputs": [
        {
          "output_type": "execute_result",
          "data": {
            "text/plain": [
              "3"
            ]
          },
          "metadata": {},
          "execution_count": 14
        }
      ]
    },
    {
      "cell_type": "code",
      "source": [
        "mean3 = stacked_threes.mean(0)\n",
        "show_image(mean3);"
      ],
      "metadata": {
        "colab": {
          "base_uri": "https://localhost:8080/",
          "height": 85
        },
        "id": "ZTzd_F3XmBra",
        "outputId": "52210415-b545-4e3a-cfd9-55550261fba2"
      },
      "execution_count": 15,
      "outputs": [
        {
          "output_type": "display_data",
          "data": {
            "text/plain": [
              "<Figure size 72x72 with 1 Axes>"
            ],
            "image/png": "[encoded data removed]"
          },
          "metadata": {
            "needs_background": "light"
          }
        }
      ]
    },
    {
      "cell_type": "code",
      "source": [
        "mean7 = stacked_sevens.mean(0)\n",
        "show_image(mean7);"
      ],
      "metadata": {
        "colab": {
          "base_uri": "https://localhost:8080/",
          "height": 85
        },
        "id": "9C-HTTzEmOA-",
        "outputId": "c32a143e-a72d-4b8b-cd16-447395206fd5"
      },
      "execution_count": 16,
      "outputs": [
        {
          "output_type": "display_data",
          "data": {
            "text/plain": [
              "<Figure size 72x72 with 1 Axes>"
            ],
            "image/png": "[encoded data removed]"
          },
          "metadata": {
            "needs_background": "light"
          }
        }
      ]
    },
    {
      "cell_type": "code",
      "source": [
        "a_3 = stacked_threes[1]\n",
        "show_image(a_3);"
      ],
      "metadata": {
        "colab": {
          "base_uri": "https://localhost:8080/",
          "height": 85
        },
        "id": "1Gtg0T6Mmc5T",
        "outputId": "08ca3048-0ff1-4d49-f707-50e30ab16f55"
      },
      "execution_count": 17,
      "outputs": [
        {
          "output_type": "display_data",
          "data": {
            "text/plain": [
              "<Figure size 72x72 with 1 Axes>"
            ],
            "image/png": "[encoded data removed]"
          },
          "metadata": {
            "needs_background": "light"
          }
        }
      ]
    },
    {
      "cell_type": "code",
      "source": [
        "dist_3_abs = (a_3 - mean3).abs().mean()\n",
        "dist_3_sqr = ((a_3 - mean3)**2).mean().sqrt()\n",
        "dist_3_abs, dist_3_sqr"
      ],
      "metadata": {
        "colab": {
          "base_uri": "https://localhost:8080/"
        },
        "id": "6aj70162miRX",
        "outputId": "161a9486-128c-4cd6-c0e1-0e805c8e49ee"
      },
      "execution_count": 18,
      "outputs": [
        {
          "output_type": "execute_result",
          "data": {
            "text/plain": [
              "(tensor(0.1114), tensor(0.2021))"
            ]
          },
          "metadata": {},
          "execution_count": 18
        }
      ]
    },
    {
      "cell_type": "code",
      "source": [
        "dist_7_abs = (a_3 - mean7).abs().mean()\n",
        "dist_7_sqr = ((a_3 - mean7)**2).mean().sqrt()\n",
        "dist_7_abs, dist_7_sqr"
      ],
      "metadata": {
        "colab": {
          "base_uri": "https://localhost:8080/"
        },
        "id": "_6uWs168nB3l",
        "outputId": "42489d1d-6738-4d91-a41a-ac1bfca3d468"
      },
      "execution_count": 19,
      "outputs": [
        {
          "output_type": "execute_result",
          "data": {
            "text/plain": [
              "(tensor(0.1586), tensor(0.3021))"
            ]
          },
          "metadata": {},
          "execution_count": 19
        }
      ]
    },
    {
      "cell_type": "code",
      "source": [
        "import torch.nn.functional as F"
      ],
      "metadata": {
        "id": "hhF1L89vnNOg"
      },
      "execution_count": 20,
      "outputs": []
    },
    {
      "cell_type": "code",
      "source": [
        "F.l1_loss(a_3.float(), mean7), F.mse_loss(a_3.float(), mean7).sqrt()"
      ],
      "metadata": {
        "colab": {
          "base_uri": "https://localhost:8080/"
        },
        "id": "1V-ije1GnoT0",
        "outputId": "3f3521a0-c1c8-471a-d05d-e2f1e44db554"
      },
      "execution_count": 21,
      "outputs": [
        {
          "output_type": "execute_result",
          "data": {
            "text/plain": [
              "(tensor(0.1586), tensor(0.3021))"
            ]
          },
          "metadata": {},
          "execution_count": 21
        }
      ]
    },
    {
      "cell_type": "code",
      "source": [
        "data = [[1,2,3],[4,5,6]]\n",
        "array(data)"
      ],
      "metadata": {
        "colab": {
          "base_uri": "https://localhost:8080/"
        },
        "id": "y3J5jULKnx8h",
        "outputId": "48bffead-7e54-402b-f985-6c7ff8fd0a3b"
      },
      "execution_count": 22,
      "outputs": [
        {
          "output_type": "execute_result",
          "data": {
            "text/plain": [
              "array([[1, 2, 3],\n",
              "       [4, 5, 6]])"
            ]
          },
          "metadata": {},
          "execution_count": 22
        }
      ]
    },
    {
      "cell_type": "code",
      "source": [
        "tns = tensor(data)\n",
        "tns"
      ],
      "metadata": {
        "colab": {
          "base_uri": "https://localhost:8080/"
        },
        "id": "_afSz3F7qEBU",
        "outputId": "14bfd77b-707e-4de8-9c04-6b0c868e4af5"
      },
      "execution_count": 23,
      "outputs": [
        {
          "output_type": "execute_result",
          "data": {
            "text/plain": [
              "tensor([[1, 2, 3],\n",
              "        [4, 5, 6]])"
            ]
          },
          "metadata": {},
          "execution_count": 23
        }
      ]
    },
    {
      "cell_type": "code",
      "source": [
        "tns[1]"
      ],
      "metadata": {
        "colab": {
          "base_uri": "https://localhost:8080/"
        },
        "id": "Mk0KBFwSqEzR",
        "outputId": "cdb7cb01-fbec-41a3-dc1e-7818f02e17e8"
      },
      "execution_count": 24,
      "outputs": [
        {
          "output_type": "execute_result",
          "data": {
            "text/plain": [
              "tensor([4, 5, 6])"
            ]
          },
          "metadata": {},
          "execution_count": 24
        }
      ]
    },
    {
      "cell_type": "code",
      "source": [
        "tns[:,1]"
      ],
      "metadata": {
        "colab": {
          "base_uri": "https://localhost:8080/"
        },
        "id": "3gqXYCXsqoKT",
        "outputId": "cf3c7bbe-1fca-42f3-bfdd-312694c9fd09"
      },
      "execution_count": 25,
      "outputs": [
        {
          "output_type": "execute_result",
          "data": {
            "text/plain": [
              "tensor([2, 5])"
            ]
          },
          "metadata": {},
          "execution_count": 25
        }
      ]
    },
    {
      "cell_type": "code",
      "source": [
        "tns[1,1:3]"
      ],
      "metadata": {
        "colab": {
          "base_uri": "https://localhost:8080/"
        },
        "id": "K1gkcMCpqpOp",
        "outputId": "e56f46be-8742-42ff-b23d-d7242ad7de35"
      },
      "execution_count": 26,
      "outputs": [
        {
          "output_type": "execute_result",
          "data": {
            "text/plain": [
              "tensor([5, 6])"
            ]
          },
          "metadata": {},
          "execution_count": 26
        }
      ]
    },
    {
      "cell_type": "code",
      "source": [
        "tns + 1"
      ],
      "metadata": {
        "colab": {
          "base_uri": "https://localhost:8080/"
        },
        "id": "5V-4JKPOqtg0",
        "outputId": "68c636b2-9b2f-4cb3-c622-4b05aefdda7f"
      },
      "execution_count": 27,
      "outputs": [
        {
          "output_type": "execute_result",
          "data": {
            "text/plain": [
              "tensor([[2, 3, 4],\n",
              "        [5, 6, 7]])"
            ]
          },
          "metadata": {},
          "execution_count": 27
        }
      ]
    },
    {
      "cell_type": "code",
      "source": [
        "tns.type()"
      ],
      "metadata": {
        "colab": {
          "base_uri": "https://localhost:8080/",
          "height": 35
        },
        "id": "ZZHvmv7Esz7e",
        "outputId": "9393b1f4-aafc-4231-dee8-cc146a074ced"
      },
      "execution_count": 28,
      "outputs": [
        {
          "output_type": "execute_result",
          "data": {
            "text/plain": [
              "'torch.LongTensor'"
            ],
            "application/vnd.google.colaboratory.intrinsic+json": {
              "type": "string"
            }
          },
          "metadata": {},
          "execution_count": 28
        }
      ]
    },
    {
      "cell_type": "code",
      "source": [
        "tns*1.5"
      ],
      "metadata": {
        "colab": {
          "base_uri": "https://localhost:8080/"
        },
        "id": "M8pNzuKts1rb",
        "outputId": "9024bfa7-4696-4145-f658-c1ab480b4837"
      },
      "execution_count": 29,
      "outputs": [
        {
          "output_type": "execute_result",
          "data": {
            "text/plain": [
              "tensor([[1.5000, 3.0000, 4.5000],\n",
              "        [6.0000, 7.5000, 9.0000]])"
            ]
          },
          "metadata": {},
          "execution_count": 29
        }
      ]
    },
    {
      "cell_type": "code",
      "source": [
        "valid_3_tens = torch.stack([tensor(Image.open(o))\n",
        "                            for o in (path/'valid'/'3').ls()])\n",
        "valid_3_tens = valid_3_tens.float()/255\n",
        "valid_7_tens = torch.stack([tensor(Image.open(o))\n",
        "                            for o in (path/'valid'/'7').ls()])\n",
        "valid_7_tens = valid_7_tens.float()/255\n",
        "valid_3_tens.shape,valid_7_tens.shape"
      ],
      "metadata": {
        "colab": {
          "base_uri": "https://localhost:8080/"
        },
        "id": "zLYPVcI4s4JF",
        "outputId": "e3c1ccf7-9934-4d90-d708-f128042dcd5c"
      },
      "execution_count": 30,
      "outputs": [
        {
          "output_type": "execute_result",
          "data": {
            "text/plain": [
              "(torch.Size([1010, 28, 28]), torch.Size([1028, 28, 28]))"
            ]
          },
          "metadata": {},
          "execution_count": 30
        }
      ]
    },
    {
      "cell_type": "code",
      "source": [
        "def mnist_distance(a,b):\n",
        "  return (a-b).abs().mean((-1,-2))\n",
        "mnist_distance(a_3, mean3)"
      ],
      "metadata": {
        "colab": {
          "base_uri": "https://localhost:8080/"
        },
        "id": "DkqD1atmtEWC",
        "outputId": "4379a2c8-5d8c-4274-def0-0d363de42c51"
      },
      "execution_count": 31,
      "outputs": [
        {
          "output_type": "execute_result",
          "data": {
            "text/plain": [
              "tensor(0.1114)"
            ]
          },
          "metadata": {},
          "execution_count": 31
        }
      ]
    },
    {
      "cell_type": "code",
      "source": [
        "valid_3_dist = mnist_distance(valid_3_tens, mean3)\n",
        "valid_3_dist, valid_3_dist.shape"
      ],
      "metadata": {
        "colab": {
          "base_uri": "https://localhost:8080/"
        },
        "id": "AXzBtbkXtjPK",
        "outputId": "89cf56ec-ffa2-41c4-e1cd-9aef0c884e99"
      },
      "execution_count": 32,
      "outputs": [
        {
          "output_type": "execute_result",
          "data": {
            "text/plain": [
              "(tensor([0.1766, 0.1268, 0.1492,  ..., 0.1199, 0.1355, 0.1151]),\n",
              " torch.Size([1010]))"
            ]
          },
          "metadata": {},
          "execution_count": 32
        }
      ]
    },
    {
      "cell_type": "code",
      "source": [
        "def is_3(x):\n",
        "  return mnist_distance(x, mean3) < mnist_distance(x, mean7)"
      ],
      "metadata": {
        "id": "Ucy8XaPRtw7T"
      },
      "execution_count": 33,
      "outputs": []
    },
    {
      "cell_type": "code",
      "source": [
        "is_3(a_3), is_3(a_3).float()"
      ],
      "metadata": {
        "colab": {
          "base_uri": "https://localhost:8080/"
        },
        "id": "4FipC3xVvKPd",
        "outputId": "c615ffc4-9f29-4bb7-e2c3-2ef78bfe3afd"
      },
      "execution_count": 34,
      "outputs": [
        {
          "output_type": "execute_result",
          "data": {
            "text/plain": [
              "(tensor(True), tensor(1.))"
            ]
          },
          "metadata": {},
          "execution_count": 34
        }
      ]
    },
    {
      "cell_type": "code",
      "source": [
        "is_3(valid_3_tens)"
      ],
      "metadata": {
        "colab": {
          "base_uri": "https://localhost:8080/"
        },
        "id": "PDXi9YSAvTRc",
        "outputId": "d7c95b19-3fa9-4d90-d1ff-7e5d47236f23"
      },
      "execution_count": 35,
      "outputs": [
        {
          "output_type": "execute_result",
          "data": {
            "text/plain": [
              "tensor([ True,  True, False,  ...,  True,  True,  True])"
            ]
          },
          "metadata": {},
          "execution_count": 35
        }
      ]
    },
    {
      "cell_type": "code",
      "source": [
        "accuracy_3s = is_3(valid_3_tens).float().mean()\n",
        "accuracy_7s = (1 - is_3(valid_7_tens).float()).mean()\n",
        "accuracy_3s, accuracy_7s, (accuracy_3s + accuracy_7s)/2"
      ],
      "metadata": {
        "colab": {
          "base_uri": "https://localhost:8080/"
        },
        "id": "0vv0sFmIvvpz",
        "outputId": "8db2af0d-e41a-422d-f3ab-ffe367c456d9"
      },
      "execution_count": 36,
      "outputs": [
        {
          "output_type": "execute_result",
          "data": {
            "text/plain": [
              "(tensor(0.9168), tensor(0.9854), tensor(0.9511))"
            ]
          },
          "metadata": {},
          "execution_count": 36
        }
      ]
    },
    {
      "cell_type": "code",
      "source": [
        "def pr_three(x, w): return (x*w).sum()"
      ],
      "metadata": {
        "id": "lOeR7ChCwWx9"
      },
      "execution_count": 37,
      "outputs": []
    },
    {
      "cell_type": "code",
      "source": [
        "def f(x): return x**2"
      ],
      "metadata": {
        "id": "UsfTWR2ZUikO"
      },
      "execution_count": 38,
      "outputs": []
    },
    {
      "cell_type": "code",
      "source": [
        "plot_function(f, 'x', 'x**2')\n",
        "plt.scatter(-1.5, f(-1.5), color='red');"
      ],
      "metadata": {
        "colab": {
          "base_uri": "https://localhost:8080/",
          "height": 285
        },
        "id": "-P6JN9DfWhPW",
        "outputId": "28f1a75c-fe1c-49cb-dc20-1a040e202759"
      },
      "execution_count": 39,
      "outputs": [
        {
          "output_type": "display_data",
          "data": {
            "text/plain": [
              "<Figure size 432x288 with 1 Axes>"
            ],
            "image/png": "[encoded data removed]"
          },
          "metadata": {
            "needs_background": "light"
          }
        }
      ]
    },
    {
      "cell_type": "code",
      "source": [
        "xt = tensor(3.).requires_grad_()"
      ],
      "metadata": {
        "id": "nHy0GWtuWpuR"
      },
      "execution_count": 40,
      "outputs": []
    },
    {
      "cell_type": "code",
      "source": [
        "yt = f(xt)\n",
        "yt"
      ],
      "metadata": {
        "colab": {
          "base_uri": "https://localhost:8080/"
        },
        "id": "V4SlfxzeYTso",
        "outputId": "bf75c63d-6ff0-4fa2-a454-f36934715ca9"
      },
      "execution_count": 41,
      "outputs": [
        {
          "output_type": "execute_result",
          "data": {
            "text/plain": [
              "tensor(9., grad_fn=<PowBackward0>)"
            ]
          },
          "metadata": {},
          "execution_count": 41
        }
      ]
    },
    {
      "cell_type": "code",
      "source": [
        "yt.backward()"
      ],
      "metadata": {
        "id": "vQ2aQkpXYWFN"
      },
      "execution_count": 42,
      "outputs": []
    },
    {
      "cell_type": "code",
      "source": [
        "xt.grad"
      ],
      "metadata": {
        "colab": {
          "base_uri": "https://localhost:8080/"
        },
        "id": "u1nJP4i9YYMO",
        "outputId": "412fbccf-536a-41ff-dceb-b74820285b55"
      },
      "execution_count": 43,
      "outputs": [
        {
          "output_type": "execute_result",
          "data": {
            "text/plain": [
              "tensor(6.)"
            ]
          },
          "metadata": {},
          "execution_count": 43
        }
      ]
    },
    {
      "cell_type": "code",
      "source": [
        "xt = tensor([3.,4.,10.]).requires_grad_()\n",
        "xt"
      ],
      "metadata": {
        "colab": {
          "base_uri": "https://localhost:8080/"
        },
        "id": "xNIia3daYcL1",
        "outputId": "db874cb2-4e16-49d7-d00b-c3bd18d0359f"
      },
      "execution_count": 44,
      "outputs": [
        {
          "output_type": "execute_result",
          "data": {
            "text/plain": [
              "tensor([ 3.,  4., 10.], requires_grad=True)"
            ]
          },
          "metadata": {},
          "execution_count": 44
        }
      ]
    },
    {
      "cell_type": "code",
      "source": [
        "def f(x): return (x**2).sum()"
      ],
      "metadata": {
        "id": "Vfu4zSk1Y139"
      },
      "execution_count": 45,
      "outputs": []
    },
    {
      "cell_type": "code",
      "source": [
        "yt = f(xt)\n",
        "yt"
      ],
      "metadata": {
        "colab": {
          "base_uri": "https://localhost:8080/"
        },
        "id": "ewe_d7MKYk2O",
        "outputId": "f3250ecf-c0d4-4370-bb59-a6ba68fe51e6"
      },
      "execution_count": 46,
      "outputs": [
        {
          "output_type": "execute_result",
          "data": {
            "text/plain": [
              "tensor(125., grad_fn=<SumBackward0>)"
            ]
          },
          "metadata": {},
          "execution_count": 46
        }
      ]
    },
    {
      "cell_type": "code",
      "source": [
        "yt.backward()"
      ],
      "metadata": {
        "id": "3p4oaPQ3YmP0"
      },
      "execution_count": 47,
      "outputs": []
    },
    {
      "cell_type": "code",
      "source": [
        "xt.grad"
      ],
      "metadata": {
        "colab": {
          "base_uri": "https://localhost:8080/"
        },
        "id": "1q5C_yOoYofo",
        "outputId": "35a8ac39-78ee-4805-cf64-05458f1e71fa"
      },
      "execution_count": 48,
      "outputs": [
        {
          "output_type": "execute_result",
          "data": {
            "text/plain": [
              "tensor([ 6.,  8., 20.])"
            ]
          },
          "metadata": {},
          "execution_count": 48
        }
      ]
    },
    {
      "cell_type": "code",
      "source": [
        "time = torch.arange(0,20).float()"
      ],
      "metadata": {
        "id": "9GkLHyZBY5Z1"
      },
      "execution_count": 49,
      "outputs": []
    },
    {
      "cell_type": "code",
      "source": [
        "time"
      ],
      "metadata": {
        "colab": {
          "base_uri": "https://localhost:8080/"
        },
        "id": "mfh7Xm1mZfPt",
        "outputId": "75ca9685-b602-40e4-fd44-a5294c86632d"
      },
      "execution_count": 50,
      "outputs": [
        {
          "output_type": "execute_result",
          "data": {
            "text/plain": [
              "tensor([ 0.,  1.,  2.,  3.,  4.,  5.,  6.,  7.,  8.,  9., 10., 11., 12., 13., 14., 15., 16., 17., 18., 19.])"
            ]
          },
          "metadata": {},
          "execution_count": 50
        }
      ]
    },
    {
      "cell_type": "code",
      "source": [
        "speed = torch.randn(20)*3 + 0.75*(time-9.5)**2 + 1\n",
        "plt.scatter(time, speed);"
      ],
      "metadata": {
        "colab": {
          "base_uri": "https://localhost:8080/",
          "height": 268
        },
        "id": "2GwPpU3HZfu-",
        "outputId": "dc920f8e-af91-4c79-d639-723bab458945"
      },
      "execution_count": 51,
      "outputs": [
        {
          "output_type": "display_data",
          "data": {
            "text/plain": [
              "<Figure size 432x288 with 1 Axes>"
            ],
            "image/png": "[encoded data removed]"
          },
          "metadata": {
            "needs_background": "light"
          }
        }
      ]
    },
    {
      "cell_type": "code",
      "source": [
        "def f(t, params):\n",
        "  a, b, c = params\n",
        "  return a*(t**2) + (b*t) + c"
      ],
      "metadata": {
        "id": "a4yIZObeZxdp"
      },
      "execution_count": 52,
      "outputs": []
    },
    {
      "cell_type": "code",
      "source": [
        "def mse(preds, targets):\n",
        "  return ((preds - targets)**2).mean().sqrt()"
      ],
      "metadata": {
        "id": "pikGNUcTaD4q"
      },
      "execution_count": 53,
      "outputs": []
    },
    {
      "cell_type": "code",
      "source": [
        "# Initialize parameters\n",
        "params = torch.randn(3).requires_grad_()"
      ],
      "metadata": {
        "id": "8C2104wOaUrb"
      },
      "execution_count": 54,
      "outputs": []
    },
    {
      "cell_type": "code",
      "source": [
        "# Calculate predictions\n",
        "preds = f(time, params)"
      ],
      "metadata": {
        "id": "CUy3x2Udae4Y"
      },
      "execution_count": 55,
      "outputs": []
    },
    {
      "cell_type": "code",
      "source": [
        "def show_preds(preds, ax = None):\n",
        "  if ax is None: ax = plt.subplots()[1]\n",
        "  ax.scatter(time, speed)\n",
        "  ax.scatter(time, to_np(preds), color = 'red')\n",
        "  ax.set_ylim(-300,100)"
      ],
      "metadata": {
        "id": "7t5pZxqIaop2"
      },
      "execution_count": 56,
      "outputs": []
    },
    {
      "cell_type": "code",
      "source": [
        "show_preds(preds)"
      ],
      "metadata": {
        "colab": {
          "base_uri": "https://localhost:8080/",
          "height": 273
        },
        "id": "DPJJd5twa-Eb",
        "outputId": "3c814853-1be8-4742-a38d-9d4ebf9f2cd3"
      },
      "execution_count": 57,
      "outputs": [
        {
          "output_type": "display_data",
          "data": {
            "text/plain": [
              "<Figure size 432x288 with 1 Axes>"
            ],
            "image/png": "[encoded data removed]"
          },
          "metadata": {
            "needs_background": "light"
          }
        }
      ]
    },
    {
      "cell_type": "code",
      "source": [
        "# Calculate the loss\n",
        "loss = mse(preds, speed)\n",
        "loss"
      ],
      "metadata": {
        "colab": {
          "base_uri": "https://localhost:8080/"
        },
        "id": "1VUlwzhQbAbU",
        "outputId": "a7f8c00b-2d2e-4088-f7eb-423203fb3809"
      },
      "execution_count": 58,
      "outputs": [
        {
          "output_type": "execute_result",
          "data": {
            "text/plain": [
              "tensor(160.6979, grad_fn=<SqrtBackward0>)"
            ]
          },
          "metadata": {},
          "execution_count": 58
        }
      ]
    },
    {
      "cell_type": "code",
      "source": [
        "# Calculate the gradients\n",
        "loss.backward()\n",
        "params.grad"
      ],
      "metadata": {
        "colab": {
          "base_uri": "https://localhost:8080/"
        },
        "id": "WCZYA7-XbKrI",
        "outputId": "2eeea5ec-9cc3-4fbb-d4b6-d79095078138"
      },
      "execution_count": 59,
      "outputs": [
        {
          "output_type": "execute_result",
          "data": {
            "text/plain": [
              "tensor([-165.5151,  -10.6402,   -0.7900])"
            ]
          },
          "metadata": {},
          "execution_count": 59
        }
      ]
    },
    {
      "cell_type": "code",
      "source": [
        "params.grad * 1e-5"
      ],
      "metadata": {
        "colab": {
          "base_uri": "https://localhost:8080/"
        },
        "id": "jdXmviXdbRtA",
        "outputId": "34b03880-4ef9-449e-80fa-25bb8f980f38"
      },
      "execution_count": 60,
      "outputs": [
        {
          "output_type": "execute_result",
          "data": {
            "text/plain": [
              "tensor([-1.6552e-03, -1.0640e-04, -7.8996e-06])"
            ]
          },
          "metadata": {},
          "execution_count": 60
        }
      ]
    },
    {
      "cell_type": "code",
      "source": [
        "params"
      ],
      "metadata": {
        "colab": {
          "base_uri": "https://localhost:8080/"
        },
        "id": "HN0lxfB8bXIx",
        "outputId": "f52fa4f9-c6cf-4f70-8cdd-13048a677005"
      },
      "execution_count": 61,
      "outputs": [
        {
          "output_type": "execute_result",
          "data": {
            "text/plain": [
              "tensor([-0.7658, -0.7506,  1.3525], requires_grad=True)"
            ]
          },
          "metadata": {},
          "execution_count": 61
        }
      ]
    },
    {
      "cell_type": "code",
      "source": [
        "## Step the weights\n",
        "lr = 1e-3\n",
        "params.data -= lr*params.grad.data\n",
        "params.grad = None"
      ],
      "metadata": {
        "id": "-6h1_K97bakK"
      },
      "execution_count": 62,
      "outputs": []
    },
    {
      "cell_type": "code",
      "source": [
        "def apply_step(params, prn=True):\n",
        "  preds = f(time, params)\n",
        "  loss = mse(preds, speed)\n",
        "  loss.backward()\n",
        "  params.data -= lr*params.grad.data\n",
        "  params.grad = None\n",
        "  if prn: \n",
        "    print(loss.item())\n",
        "  return preds"
      ],
      "metadata": {
        "id": "6clSA9okboMa"
      },
      "execution_count": 63,
      "outputs": []
    },
    {
      "cell_type": "code",
      "source": [
        "for i in range(10):\n",
        "  apply_step(params)"
      ],
      "metadata": {
        "colab": {
          "base_uri": "https://localhost:8080/"
        },
        "id": "NoGYIhYycKUf",
        "outputId": "69f28f67-61c3-4e1d-a753-e94e0aaecff3"
      },
      "execution_count": 64,
      "outputs": [
        {
          "output_type": "stream",
          "name": "stdout",
          "text": [
            "133.26524353027344\n",
            "106.2302474975586\n",
            "79.95720672607422\n",
            "55.385318756103516\n",
            "35.366943359375\n",
            "26.461618423461914\n",
            "26.02068519592285\n",
            "26.01849937438965\n",
            "26.018320083618164\n",
            "26.018157958984375\n"
          ]
        }
      ]
    },
    {
      "cell_type": "code",
      "source": [
        "_,axs = plt.subplots(1,4,figsize=(12,3))\n",
        "for ax in axs: show_preds(apply_step(params, False), ax)\n",
        "plt.tight_layout()"
      ],
      "metadata": {
        "colab": {
          "base_uri": "https://localhost:8080/",
          "height": 221
        },
        "id": "rQrBMGQccOl0",
        "outputId": "de3e4de7-9844-4a66-de18-05f8aabfb6db"
      },
      "execution_count": 65,
      "outputs": [
        {
          "output_type": "display_data",
          "data": {
            "text/plain": [
              "<Figure size 864x216 with 4 Axes>"
            ],
            "image/png": "[encoded data removed]"
          },
          "metadata": {
            "needs_background": "light"
          }
        }
      ]
    },
    {
      "cell_type": "markdown",
      "source": [
        "## MNIST training"
      ],
      "metadata": {
        "id": "M5KuZva1do4U"
      }
    },
    {
      "cell_type": "code",
      "source": [
        "train_x = torch.cat([stacked_threes, stacked_sevens]).view(-1,28*28)"
      ],
      "metadata": {
        "id": "lLpZdh1ncZWg"
      },
      "execution_count": 66,
      "outputs": []
    },
    {
      "cell_type": "code",
      "source": [
        "train_y = tensor([1]*len(threes) + [0]*len(sevens)).unsqueeze(-1)\n",
        "train_x.shape, train_y.shape"
      ],
      "metadata": {
        "id": "PkjznnONdzZn",
        "outputId": "7ca424f1-f3cb-44c9-8946-cc4f1d2e3fdd",
        "colab": {
          "base_uri": "https://localhost:8080/"
        }
      },
      "execution_count": 67,
      "outputs": [
        {
          "output_type": "execute_result",
          "data": {
            "text/plain": [
              "(torch.Size([12396, 784]), torch.Size([12396, 1]))"
            ]
          },
          "metadata": {},
          "execution_count": 67
        }
      ]
    },
    {
      "cell_type": "code",
      "source": [
        "dset = list(zip(train_x, train_y))\n",
        "x, y = dset[0]\n",
        "x.shape, y"
      ],
      "metadata": {
        "id": "wHNStegAeFNe",
        "outputId": "7aacf928-f2ce-47c9-8b32-983fc2f7a864",
        "colab": {
          "base_uri": "https://localhost:8080/"
        }
      },
      "execution_count": 68,
      "outputs": [
        {
          "output_type": "execute_result",
          "data": {
            "text/plain": [
              "(torch.Size([784]), tensor([1]))"
            ]
          },
          "metadata": {},
          "execution_count": 68
        }
      ]
    },
    {
      "cell_type": "code",
      "source": [
        "valid_x = torch.cat([valid_3_tens, valid_7_tens]).view(-1, 28*28)\n",
        "valid_y = tensor([1]*len(valid_3_tens) + [0]*len(valid_7_tens)).unsqueeze(1)\n",
        "valid_dset = list(zip(valid_x,valid_y))"
      ],
      "metadata": {
        "id": "23lyFmJYeTXj"
      },
      "execution_count": 69,
      "outputs": []
    },
    {
      "cell_type": "code",
      "source": [
        "def init_params(size, std=1.0):\n",
        "  return (torch.randn(size)*std).requires_grad_()"
      ],
      "metadata": {
        "id": "qMx7MROKeWRy"
      },
      "execution_count": 70,
      "outputs": []
    },
    {
      "cell_type": "code",
      "source": [
        "weights = init_params((28*28, 1))"
      ],
      "metadata": {
        "id": "ktDURjBielJy"
      },
      "execution_count": 71,
      "outputs": []
    },
    {
      "cell_type": "code",
      "source": [
        "bias = init_params(1)"
      ],
      "metadata": {
        "id": "KjR319A7eqbS"
      },
      "execution_count": 72,
      "outputs": []
    },
    {
      "cell_type": "code",
      "source": [
        "(train_x[0]*weights.T).sum() + bias"
      ],
      "metadata": {
        "id": "VS-CRZHEevqz",
        "outputId": "4d3b32ea-93ce-4eb7-a942-0ae4cb52f222",
        "colab": {
          "base_uri": "https://localhost:8080/"
        }
      },
      "execution_count": 73,
      "outputs": [
        {
          "output_type": "execute_result",
          "data": {
            "text/plain": [
              "tensor([20.2336], grad_fn=<AddBackward0>)"
            ]
          },
          "metadata": {},
          "execution_count": 73
        }
      ]
    },
    {
      "cell_type": "code",
      "source": [
        "def linear1(xb):\n",
        "  return xb@weights  + bias\n",
        "\n",
        "preds = linear1(train_x)\n",
        "preds"
      ],
      "metadata": {
        "id": "752AxOnFe7Uw",
        "outputId": "9364ae71-8fe3-4174-c8f2-64fb3e017a53",
        "colab": {
          "base_uri": "https://localhost:8080/"
        }
      },
      "execution_count": 74,
      "outputs": [
        {
          "output_type": "execute_result",
          "data": {
            "text/plain": [
              "tensor([[20.2336],\n",
              "        [17.0644],\n",
              "        [15.2384],\n",
              "        ...,\n",
              "        [18.3804],\n",
              "        [23.8567],\n",
              "        [28.6816]], grad_fn=<AddBackward0>)"
            ]
          },
          "metadata": {},
          "execution_count": 74
        }
      ]
    },
    {
      "cell_type": "code",
      "source": [
        "corrects = (preds > 0.0).float() == train_y\n",
        "corrects"
      ],
      "metadata": {
        "id": "ZnHjlbGBf5bs",
        "outputId": "15d777c6-3a11-40b9-d840-7d40940dde39",
        "colab": {
          "base_uri": "https://localhost:8080/"
        }
      },
      "execution_count": 75,
      "outputs": [
        {
          "output_type": "execute_result",
          "data": {
            "text/plain": [
              "tensor([[ True],\n",
              "        [ True],\n",
              "        [ True],\n",
              "        ...,\n",
              "        [False],\n",
              "        [False],\n",
              "        [False]])"
            ]
          },
          "metadata": {},
          "execution_count": 75
        }
      ]
    },
    {
      "cell_type": "code",
      "source": [
        "corrects.float().mean().item()"
      ],
      "metadata": {
        "id": "NyAA1p7bgMWk",
        "outputId": "4d14a671-4a7e-4c80-b70d-e403c88f57ab",
        "colab": {
          "base_uri": "https://localhost:8080/"
        }
      },
      "execution_count": 76,
      "outputs": [
        {
          "output_type": "execute_result",
          "data": {
            "text/plain": [
              "0.4912068545818329"
            ]
          },
          "metadata": {},
          "execution_count": 76
        }
      ]
    },
    {
      "cell_type": "code",
      "source": [
        "trgts = tensor([1,0,1])\n",
        "prds = tensor([0.9, 0.4, 0.2])"
      ],
      "metadata": {
        "id": "Nn5BCEdagnod"
      },
      "execution_count": 78,
      "outputs": []
    },
    {
      "cell_type": "code",
      "source": [
        "def mnist_loss(predictions, targets):\n",
        "  return torch.where(targets == 1, 1 - predictions, predictions).mean()"
      ],
      "metadata": {
        "id": "5iI82KH3hTEi"
      },
      "execution_count": 79,
      "outputs": []
    },
    {
      "cell_type": "code",
      "source": [
        "torch.where(trgts==1, 1 -prds, prds)"
      ],
      "metadata": {
        "id": "LwAYxLYqho9o",
        "outputId": "57175184-88f8-48a0-cafe-bb4a80dc9bde",
        "colab": {
          "base_uri": "https://localhost:8080/"
        }
      },
      "execution_count": 80,
      "outputs": [
        {
          "output_type": "execute_result",
          "data": {
            "text/plain": [
              "tensor([0.1000, 0.4000, 0.8000])"
            ]
          },
          "metadata": {},
          "execution_count": 80
        }
      ]
    },
    {
      "cell_type": "code",
      "source": [
        "mnist_loss(prds, trgts)"
      ],
      "metadata": {
        "id": "eCv50hrMh66f",
        "outputId": "f863c66e-341d-4cf7-a27a-00e5e15e7183",
        "colab": {
          "base_uri": "https://localhost:8080/"
        }
      },
      "execution_count": 81,
      "outputs": [
        {
          "output_type": "execute_result",
          "data": {
            "text/plain": [
              "tensor(0.4333)"
            ]
          },
          "metadata": {},
          "execution_count": 81
        }
      ]
    },
    {
      "cell_type": "code",
      "source": [
        "mnist_loss(tensor([0.9, 0.4, 0.8]),trgts)"
      ],
      "metadata": {
        "id": "PjifmxWGiD4u",
        "outputId": "3873d211-8ce8-47f2-f439-bfa06e4dd115",
        "colab": {
          "base_uri": "https://localhost:8080/"
        }
      },
      "execution_count": 83,
      "outputs": [
        {
          "output_type": "execute_result",
          "data": {
            "text/plain": [
              "tensor(0.2333)"
            ]
          },
          "metadata": {},
          "execution_count": 83
        }
      ]
    },
    {
      "cell_type": "code",
      "source": [
        "def sigmoid(x):\n",
        "  return 1/(1 + torch.exp(-x))"
      ],
      "metadata": {
        "id": "ojr4fmntiG9L"
      },
      "execution_count": 84,
      "outputs": []
    },
    {
      "cell_type": "code",
      "source": [
        "plot_function(torch.sigmoid, title='Sigmoid', min=-4, max=4)"
      ],
      "metadata": {
        "id": "zwgoD_CbiSbo",
        "outputId": "938d886f-8e74-4830-e3f2-377e8dbe0e1e",
        "colab": {
          "base_uri": "https://localhost:8080/",
          "height": 285
        }
      },
      "execution_count": 85,
      "outputs": [
        {
          "output_type": "display_data",
          "data": {
            "text/plain": [
              "<Figure size 432x288 with 1 Axes>"
            ],
            "image/png": "[encoded data removed]"
          },
          "metadata": {
            "needs_background": "light"
          }
        }
      ]
    },
    {
      "cell_type": "code",
      "source": [
        "def mnist_loss(predictions, targets):\n",
        "  predictions = predictions.sigmoid()\n",
        "  return torch.where(targets == 1, 1 - predictions, predictions).mean()"
      ],
      "metadata": {
        "id": "h9OKRJVJiVOi"
      },
      "execution_count": 86,
      "outputs": []
    },
    {
      "cell_type": "markdown",
      "source": [
        "## SGD & Mini Batches"
      ],
      "metadata": {
        "id": "fMPkX3oXkrLx"
      }
    },
    {
      "cell_type": "code",
      "source": [
        "col1 = range(15)"
      ],
      "metadata": {
        "id": "cpYQ6a2bifFo"
      },
      "execution_count": 87,
      "outputs": []
    },
    {
      "cell_type": "code",
      "source": [
        "dl = DataLoader(col1, batch_size = 5, shuffle = True)\n",
        "list(dl)"
      ],
      "metadata": {
        "id": "xOEt5t1OkqWr",
        "outputId": "f78106dd-6533-41b1-c55e-5756c64c497a",
        "colab": {
          "base_uri": "https://localhost:8080/"
        }
      },
      "execution_count": 89,
      "outputs": [
        {
          "output_type": "execute_result",
          "data": {
            "text/plain": [
              "[tensor([ 8,  9,  5, 11,  4]),\n",
              " tensor([ 7, 13, 14,  2,  3]),\n",
              " tensor([ 6, 12, 10,  1,  0])]"
            ]
          },
          "metadata": {},
          "execution_count": 89
        }
      ]
    },
    {
      "cell_type": "code",
      "source": [
        "ds = L(enumerate(string.ascii_lowercase))\n",
        "ds"
      ],
      "metadata": {
        "id": "kk9Aahcdk3qT",
        "outputId": "04524ef4-f06d-45ff-ccd7-eb01f542827e",
        "colab": {
          "base_uri": "https://localhost:8080/"
        }
      },
      "execution_count": 90,
      "outputs": [
        {
          "output_type": "execute_result",
          "data": {
            "text/plain": [
              "(#26) [(0, 'a'),(1, 'b'),(2, 'c'),(3, 'd'),(4, 'e'),(5, 'f'),(6, 'g'),(7, 'h'),(8, 'i'),(9, 'j')...]"
            ]
          },
          "metadata": {},
          "execution_count": 90
        }
      ]
    },
    {
      "cell_type": "code",
      "source": [
        "dl = DataLoader(ds, batch_size=6, shuffle=True)\n",
        "list(dl)"
      ],
      "metadata": {
        "id": "4DjOgzO5lj2u",
        "outputId": "14482213-b739-4b9d-ab0d-2148ecf740d4",
        "colab": {
          "base_uri": "https://localhost:8080/"
        }
      },
      "execution_count": 91,
      "outputs": [
        {
          "output_type": "execute_result",
          "data": {
            "text/plain": [
              "[(tensor([19, 14,  0, 24, 20, 12]), ('t', 'o', 'a', 'y', 'u', 'm')),\n",
              " (tensor([23,  8,  9,  3, 16,  6]), ('x', 'i', 'j', 'd', 'q', 'g')),\n",
              " (tensor([ 4,  7,  1, 13,  2, 22]), ('e', 'h', 'b', 'n', 'c', 'w')),\n",
              " (tensor([ 5, 17, 18, 10, 11, 15]), ('f', 'r', 's', 'k', 'l', 'p')),\n",
              " (tensor([25, 21]), ('z', 'v'))]"
            ]
          },
          "metadata": {},
          "execution_count": 91
        }
      ]
    },
    {
      "cell_type": "code",
      "source": [
        "weights = init_params((28*28,1))\n",
        "bias = init_params(1)"
      ],
      "metadata": {
        "id": "zUtf-E2YlqA-"
      },
      "execution_count": 92,
      "outputs": []
    },
    {
      "cell_type": "code",
      "source": [
        "dl = DataLoader(dset, batch_size = 256)\n",
        "xb, yb = first(dl)\n",
        "xb.shape, yb.shape"
      ],
      "metadata": {
        "id": "ZnF1SqngmIV8",
        "outputId": "b23c28a2-f011-4a70-bd7d-b2f2368ac565",
        "colab": {
          "base_uri": "https://localhost:8080/"
        }
      },
      "execution_count": 93,
      "outputs": [
        {
          "output_type": "execute_result",
          "data": {
            "text/plain": [
              "(torch.Size([256, 784]), torch.Size([256, 1]))"
            ]
          },
          "metadata": {},
          "execution_count": 93
        }
      ]
    },
    {
      "cell_type": "code",
      "source": [
        "valid_dl = DataLoader(valid_dset, batch_size = 256)\n",
        "batch = train_x[:4]\n",
        "batch.shape"
      ],
      "metadata": {
        "id": "q14Q3rbOmS5p",
        "outputId": "7ee4352c-2006-40dc-c0b8-3e74b11f6681",
        "colab": {
          "base_uri": "https://localhost:8080/"
        }
      },
      "execution_count": 95,
      "outputs": [
        {
          "output_type": "execute_result",
          "data": {
            "text/plain": [
              "torch.Size([4, 784])"
            ]
          },
          "metadata": {},
          "execution_count": 95
        }
      ]
    },
    {
      "cell_type": "code",
      "source": [
        "preds = linear1(batch)\n",
        "preds"
      ],
      "metadata": {
        "id": "Q2hoKiQHmeKq",
        "outputId": "0e8e483b-670b-4052-ba48-ab508f4dfbd2",
        "colab": {
          "base_uri": "https://localhost:8080/"
        }
      },
      "execution_count": 96,
      "outputs": [
        {
          "output_type": "execute_result",
          "data": {
            "text/plain": [
              "tensor([[-2.1876],\n",
              "        [-8.3973],\n",
              "        [ 2.5000],\n",
              "        [-4.9473]], grad_fn=<AddBackward0>)"
            ]
          },
          "metadata": {},
          "execution_count": 96
        }
      ]
    },
    {
      "cell_type": "code",
      "source": [
        "loss = mnist_loss(preds, train_y[:4])\n",
        "loss"
      ],
      "metadata": {
        "id": "wyb-aFIkmkjf",
        "outputId": "ae77ef01-12e7-4f83-93e2-945f4f329afa",
        "colab": {
          "base_uri": "https://localhost:8080/"
        }
      },
      "execution_count": 97,
      "outputs": [
        {
          "output_type": "execute_result",
          "data": {
            "text/plain": [
              "tensor(0.7419, grad_fn=<MeanBackward0>)"
            ]
          },
          "metadata": {},
          "execution_count": 97
        }
      ]
    },
    {
      "cell_type": "code",
      "source": [
        "loss.backward()\n",
        "weights.grad.shape, weights.grad.mean(), bias.grad"
      ],
      "metadata": {
        "id": "JWiNWvYPmqpe",
        "outputId": "3fa05ab1-5910-4fa3-c01b-8cb49d0c9d9c",
        "colab": {
          "base_uri": "https://localhost:8080/"
        }
      },
      "execution_count": 98,
      "outputs": [
        {
          "output_type": "execute_result",
          "data": {
            "text/plain": [
              "(torch.Size([784, 1]), tensor(-0.0061), tensor([-0.0420]))"
            ]
          },
          "metadata": {},
          "execution_count": 98
        }
      ]
    },
    {
      "cell_type": "code",
      "source": [
        "def calc_grad(xb, yb, model):\n",
        "  preds = model(xb)\n",
        "  loss = mnist_loss(preds, yb)\n",
        "  loss.backward()"
      ],
      "metadata": {
        "id": "SFPQleAMmyW8"
      },
      "execution_count": 99,
      "outputs": []
    },
    {
      "cell_type": "code",
      "source": [
        "calc_grad(batch, train_y[:4], linear1)\n",
        "weights.grad.mean(), bias.grad"
      ],
      "metadata": {
        "id": "HomUpnzGm-NF",
        "outputId": "3411b07f-c5d3-49ea-d0fb-318d8a4358d3",
        "colab": {
          "base_uri": "https://localhost:8080/"
        }
      },
      "execution_count": 100,
      "outputs": [
        {
          "output_type": "execute_result",
          "data": {
            "text/plain": [
              "(tensor(-0.0121), tensor([-0.0840]))"
            ]
          },
          "metadata": {},
          "execution_count": 100
        }
      ]
    },
    {
      "cell_type": "code",
      "source": [
        "weights.grad.zero_()\n",
        "bias.grad.zero_()"
      ],
      "metadata": {
        "id": "cx8ztsHxnJpy",
        "outputId": "5208b18d-45c0-4a41-cbc8-232b444acd17",
        "colab": {
          "base_uri": "https://localhost:8080/"
        }
      },
      "execution_count": 101,
      "outputs": [
        {
          "output_type": "execute_result",
          "data": {
            "text/plain": [
              "tensor([0.])"
            ]
          },
          "metadata": {},
          "execution_count": 101
        }
      ]
    },
    {
      "cell_type": "code",
      "source": [
        "def train_epoch(model, lr, params):\n",
        "  for xb, yb in dl:\n",
        "    calc_grad(xb, yb, model)\n",
        "    for p in params:\n",
        "      p.data -= p.grad*lr\n",
        "      p.grad.zero_()"
      ],
      "metadata": {
        "id": "VKs9YaccnP4-"
      },
      "execution_count": 102,
      "outputs": []
    },
    {
      "cell_type": "code",
      "source": [
        "(preds>0.5).float() == train_y[:4]"
      ],
      "metadata": {
        "id": "ncM0vqV0nxnN",
        "outputId": "b57e9f4d-b11b-4c65-b56e-8f42c78985da",
        "colab": {
          "base_uri": "https://localhost:8080/"
        }
      },
      "execution_count": 103,
      "outputs": [
        {
          "output_type": "execute_result",
          "data": {
            "text/plain": [
              "tensor([[False],\n",
              "        [False],\n",
              "        [ True],\n",
              "        [False]])"
            ]
          },
          "metadata": {},
          "execution_count": 103
        }
      ]
    },
    {
      "cell_type": "code",
      "source": [
        "def batch_accuracy(xb, yb):\n",
        "  preds = xb.sigmoid()\n",
        "  correct = (preds > 0.5) == yb\n",
        "  return correct.float().mean()"
      ],
      "metadata": {
        "id": "rTt1_5Zqn1Ce"
      },
      "execution_count": 104,
      "outputs": []
    },
    {
      "cell_type": "code",
      "source": [
        "batch_accuracy(linear1(batch), train_y[:4])"
      ],
      "metadata": {
        "id": "zMtjPh7BoIx3",
        "outputId": "c2f58d4f-1746-495c-8e53-c9890aa64b63",
        "colab": {
          "base_uri": "https://localhost:8080/"
        }
      },
      "execution_count": 105,
      "outputs": [
        {
          "output_type": "execute_result",
          "data": {
            "text/plain": [
              "tensor(0.2500)"
            ]
          },
          "metadata": {},
          "execution_count": 105
        }
      ]
    },
    {
      "cell_type": "code",
      "source": [
        "def validate_epoch(model):\n",
        "    accs = [batch_accuracy(model(xb), yb) for xb,yb in valid_dl]\n",
        "    return round(torch.stack(accs).mean().item(), 4)"
      ],
      "metadata": {
        "id": "zxuOuQ1ioK9Y"
      },
      "execution_count": 106,
      "outputs": []
    },
    {
      "cell_type": "code",
      "source": [
        "validate_epoch(linear1)"
      ],
      "metadata": {
        "id": "hkUpKxzroPsg",
        "outputId": "cf9e0790-a28b-465b-8378-e5bb7dde273b",
        "colab": {
          "base_uri": "https://localhost:8080/"
        }
      },
      "execution_count": 107,
      "outputs": [
        {
          "output_type": "execute_result",
          "data": {
            "text/plain": [
              "0.5263"
            ]
          },
          "metadata": {},
          "execution_count": 107
        }
      ]
    },
    {
      "cell_type": "code",
      "source": [
        "lr = 1.0\n",
        "params = weights, bias\n",
        "train_epoch(linear1, lr, params)\n",
        "validate_epoch(linear1)"
      ],
      "metadata": {
        "id": "vOct6pjroSzf",
        "outputId": "378a24a6-c9cc-49ab-d260-2485067331de",
        "colab": {
          "base_uri": "https://localhost:8080/"
        }
      },
      "execution_count": 108,
      "outputs": [
        {
          "output_type": "execute_result",
          "data": {
            "text/plain": [
              "0.6663"
            ]
          },
          "metadata": {},
          "execution_count": 108
        }
      ]
    },
    {
      "cell_type": "code",
      "source": [
        "for i in range(20):\n",
        "    train_epoch(linear1, lr, params)\n",
        "    print(validate_epoch(linear1), end=' ')"
      ],
      "metadata": {
        "id": "YcVacSsgou0g",
        "outputId": "d5db6648-f3c2-40f2-b76c-cd7a587c9ec7",
        "colab": {
          "base_uri": "https://localhost:8080/"
        }
      },
      "execution_count": 109,
      "outputs": [
        {
          "output_type": "stream",
          "name": "stdout",
          "text": [
            "0.8265 0.89 0.9183 0.9276 0.9398 0.9467 0.9506 0.9525 0.9559 0.9579 0.9598 0.9608 0.9613 0.9618 0.9632 0.9637 0.9647 0.9657 0.9672 0.9677 "
          ]
        }
      ]
    },
    {
      "cell_type": "code",
      "source": [
        "##"
      ],
      "metadata": {
        "id": "qntQJhxlo5ee"
      },
      "execution_count": null,
      "outputs": []
    },
    {
      "cell_type": "markdown",
      "source": [
        "## Creating an Optimizer"
      ],
      "metadata": {
        "id": "XgNnMwkWpBH2"
      }
    },
    {
      "cell_type": "code",
      "source": [
        "linear_model = nn.Linear(28*28,1)"
      ],
      "metadata": {
        "id": "_346qD3MpE0X"
      },
      "execution_count": 110,
      "outputs": []
    },
    {
      "cell_type": "code",
      "source": [
        "w, b = linear_model.parameters()\n",
        "w.shape, b.shape"
      ],
      "metadata": {
        "id": "_ht0xyTgpL5s",
        "outputId": "e3b60d19-8724-4df8-d4d5-2c88d943c56b",
        "colab": {
          "base_uri": "https://localhost:8080/"
        }
      },
      "execution_count": 112,
      "outputs": [
        {
          "output_type": "execute_result",
          "data": {
            "text/plain": [
              "(torch.Size([1, 784]), torch.Size([1]))"
            ]
          },
          "metadata": {},
          "execution_count": 112
        }
      ]
    },
    {
      "cell_type": "code",
      "source": [
        "class BasicOptim:\n",
        "    def __init__(self,params,lr): self.params,self.lr = list(params),lr\n",
        "\n",
        "    def step(self, *args, **kwargs):\n",
        "        for p in self.params: p.data -= p.grad.data * self.lr\n",
        "\n",
        "    def zero_grad(self, *args, **kwargs):\n",
        "        for p in self.params: p.grad = None"
      ],
      "metadata": {
        "id": "kkNnoixApXkT"
      },
      "execution_count": 113,
      "outputs": []
    },
    {
      "cell_type": "code",
      "source": [
        "opt = BasicOptim(linear_model.parameters(), lr)"
      ],
      "metadata": {
        "id": "r1lJo9impTo8"
      },
      "execution_count": 114,
      "outputs": []
    },
    {
      "cell_type": "code",
      "source": [
        "def train_epoch(model):\n",
        "    for xb,yb in dl:\n",
        "        calc_grad(xb, yb, model)\n",
        "        opt.step()\n",
        "        opt.zero_grad()"
      ],
      "metadata": {
        "id": "9_zQJtpTpeay"
      },
      "execution_count": 115,
      "outputs": []
    },
    {
      "cell_type": "code",
      "source": [
        "validate_epoch(linear_model)"
      ],
      "metadata": {
        "id": "Dj02BW8ApggS",
        "outputId": "a95bb2d8-09e6-4604-a2a5-c57b457536c3",
        "colab": {
          "base_uri": "https://localhost:8080/"
        }
      },
      "execution_count": 116,
      "outputs": [
        {
          "output_type": "execute_result",
          "data": {
            "text/plain": [
              "0.4608"
            ]
          },
          "metadata": {},
          "execution_count": 116
        }
      ]
    },
    {
      "cell_type": "code",
      "source": [
        "def train_model(model, epochs):\n",
        "    for i in range(epochs):\n",
        "        train_epoch(model)\n",
        "        print(validate_epoch(model), end=' ')"
      ],
      "metadata": {
        "id": "tg9TJidup5XL"
      },
      "execution_count": 117,
      "outputs": []
    },
    {
      "cell_type": "code",
      "source": [
        "train_model(linear_model, 20)"
      ],
      "metadata": {
        "id": "nwK4xBPzp7l6",
        "outputId": "cc51af8a-db9d-4ce2-ef36-eda75346159c",
        "colab": {
          "base_uri": "https://localhost:8080/"
        }
      },
      "execution_count": 118,
      "outputs": [
        {
          "output_type": "stream",
          "name": "stdout",
          "text": [
            "0.4932 0.7686 0.8555 0.9136 0.9346 0.9482 0.957 0.9634 0.9658 0.9678 0.9697 0.9717 0.9736 0.9746 0.9761 0.9771 0.9775 0.9775 0.978 0.9785 "
          ]
        }
      ]
    },
    {
      "cell_type": "code",
      "source": [
        "dls = DataLoaders(dl, valid_dl)"
      ],
      "metadata": {
        "id": "Y50il4VRp9ps"
      },
      "execution_count": 124,
      "outputs": []
    },
    {
      "cell_type": "code",
      "source": [
        "list(dls)"
      ],
      "metadata": {
        "id": "q4_m84z8q95a",
        "outputId": "450c76b0-e139-4289-e0c1-fa51c554d9e3",
        "colab": {
          "base_uri": "https://localhost:8080/"
        }
      },
      "execution_count": 125,
      "outputs": [
        {
          "output_type": "execute_result",
          "data": {
            "text/plain": [
              "[<fastai.data.load.DataLoader at 0x7f4d66d12970>,\n",
              " <fastai.data.load.DataLoader at 0x7f4d66d6dbe0>]"
            ]
          },
          "metadata": {},
          "execution_count": 125
        }
      ]
    },
    {
      "cell_type": "code",
      "source": [
        "learn = Learner(dls, nn.Linear(28*28,1), opt_func = SGD, loss_func = mnist_loss, metrics = batch_accuracy)"
      ],
      "metadata": {
        "id": "i1UlqFKGqS5N"
      },
      "execution_count": 126,
      "outputs": []
    },
    {
      "cell_type": "code",
      "source": [
        "learn.fit(10, lr = lr)"
      ],
      "metadata": {
        "id": "H65J69utqesa",
        "outputId": "1194519b-e596-47ff-8445-0cb71b6982e8",
        "colab": {
          "base_uri": "https://localhost:8080/",
          "height": 363
        }
      },
      "execution_count": 127,
      "outputs": [
        {
          "output_type": "display_data",
          "data": {
            "text/plain": [
              "<IPython.core.display.HTML object>"
            ],
            "text/html": [
              "\n",
              "<style>\n",
              "    /* Turns off some styling */\n",
              "    progress {\n",
              "        /* gets rid of default border in Firefox and Opera. */\n",
              "        border: none;\n",
              "        /* Needs to be in here for Safari polyfill so background images work as expected. */\n",
              "        background-size: auto;\n",
              "    }\n",
              "    progress:not([value]), progress:not([value])::-webkit-progress-bar {\n",
              "        background: repeating-linear-gradient(45deg, #7e7e7e, #7e7e7e 10px, #5c5c5c 10px, #5c5c5c 20px);\n",
              "    }\n",
              "    .progress-bar-interrupted, .progress-bar-interrupted::-webkit-progress-bar {\n",
              "        background: #F44336;\n",
              "    }\n",
              "</style>\n"
            ]
          },
          "metadata": {}
        },
        {
          "output_type": "display_data",
          "data": {
            "text/plain": [
              "<IPython.core.display.HTML object>"
            ],
            "text/html": [
              "<table border=\"1\" class=\"dataframe\">\n",
              "  <thead>\n",
              "    <tr style=\"text-align: left;\">\n",
              "      <th>epoch</th>\n",
              "      <th>train_loss</th>\n",
              "      <th>valid_loss</th>\n",
              "      <th>batch_accuracy</th>\n",
              "      <th>time</th>\n",
              "    </tr>\n",
              "  </thead>\n",
              "  <tbody>\n",
              "    <tr>\n",
              "      <td>0</td>\n",
              "      <td>0.636893</td>\n",
              "      <td>0.503603</td>\n",
              "      <td>0.495584</td>\n",
              "      <td>00:00</td>\n",
              "    </tr>\n",
              "    <tr>\n",
              "      <td>1</td>\n",
              "      <td>0.574750</td>\n",
              "      <td>0.193569</td>\n",
              "      <td>0.837095</td>\n",
              "      <td>00:00</td>\n",
              "    </tr>\n",
              "    <tr>\n",
              "      <td>2</td>\n",
              "      <td>0.209934</td>\n",
              "      <td>0.178713</td>\n",
              "      <td>0.838567</td>\n",
              "      <td>00:00</td>\n",
              "    </tr>\n",
              "    <tr>\n",
              "      <td>3</td>\n",
              "      <td>0.090778</td>\n",
              "      <td>0.106147</td>\n",
              "      <td>0.912659</td>\n",
              "      <td>00:00</td>\n",
              "    </tr>\n",
              "    <tr>\n",
              "      <td>4</td>\n",
              "      <td>0.046971</td>\n",
              "      <td>0.077506</td>\n",
              "      <td>0.931796</td>\n",
              "      <td>00:00</td>\n",
              "    </tr>\n",
              "    <tr>\n",
              "      <td>5</td>\n",
              "      <td>0.029948</td>\n",
              "      <td>0.062095</td>\n",
              "      <td>0.947007</td>\n",
              "      <td>00:00</td>\n",
              "    </tr>\n",
              "    <tr>\n",
              "      <td>6</td>\n",
              "      <td>0.023013</td>\n",
              "      <td>0.052486</td>\n",
              "      <td>0.956330</td>\n",
              "      <td>00:00</td>\n",
              "    </tr>\n",
              "    <tr>\n",
              "      <td>7</td>\n",
              "      <td>0.019973</td>\n",
              "      <td>0.046094</td>\n",
              "      <td>0.962218</td>\n",
              "      <td>00:00</td>\n",
              "    </tr>\n",
              "    <tr>\n",
              "      <td>8</td>\n",
              "      <td>0.018460</td>\n",
              "      <td>0.041603</td>\n",
              "      <td>0.965653</td>\n",
              "      <td>00:00</td>\n",
              "    </tr>\n",
              "    <tr>\n",
              "      <td>9</td>\n",
              "      <td>0.017567</td>\n",
              "      <td>0.038296</td>\n",
              "      <td>0.967125</td>\n",
              "      <td>00:00</td>\n",
              "    </tr>\n",
              "  </tbody>\n",
              "</table>"
            ]
          },
          "metadata": {}
        }
      ]
    },
    {
      "cell_type": "markdown",
      "source": [
        "### Adding Nonlinearity"
      ],
      "metadata": {
        "id": "pxT0_x4RrH_N"
      }
    },
    {
      "cell_type": "code",
      "source": [
        "w1 = init_params((28*28,30))\n",
        "b1 = init_params(30)\n",
        "w2 = init_params((30,1))\n",
        "b2 = init_params(1)"
      ],
      "metadata": {
        "id": "q9XSRB-8rgYE"
      },
      "execution_count": 128,
      "outputs": []
    },
    {
      "cell_type": "code",
      "source": [
        "def simple_net(xb):\n",
        "  res = xb@w1 + b1\n",
        "  res = res.max(tensor(0.0))\n",
        "  res = res@w2 + b2\n",
        "  return res"
      ],
      "metadata": {
        "id": "SziWgPe7qiSi"
      },
      "execution_count": 129,
      "outputs": []
    },
    {
      "cell_type": "code",
      "source": [
        "plot_function(F.relu)"
      ],
      "metadata": {
        "id": "RdLTMoGCrhmV",
        "outputId": "8d277ee0-80ef-473b-e9a7-4039d9bd09a0",
        "colab": {
          "base_uri": "https://localhost:8080/",
          "height": 268
        }
      },
      "execution_count": 130,
      "outputs": [
        {
          "output_type": "display_data",
          "data": {
            "text/plain": [
              "<Figure size 432x288 with 1 Axes>"
            ],
            "image/png": "[encoded data removed]"
          },
          "metadata": {
            "needs_background": "light"
          }
        }
      ]
    },
    {
      "cell_type": "code",
      "source": [
        "simple_net = nn.Sequential(\n",
        "    nn.Linear(28*28, 30),\n",
        "    nn.ReLU(),\n",
        "    nn.Linear(30, 1)\n",
        ")"
      ],
      "metadata": {
        "id": "UjFoGmAYrm4W"
      },
      "execution_count": 131,
      "outputs": []
    },
    {
      "cell_type": "code",
      "source": [
        "learn = Learner(dls, simple_net, opt_func=SGD,\n",
        "                loss_func=mnist_loss, metrics=batch_accuracy)"
      ],
      "metadata": {
        "id": "85ttpfVCsm-z"
      },
      "execution_count": 132,
      "outputs": []
    },
    {
      "cell_type": "code",
      "source": [
        "learn.fit(40,0.1)"
      ],
      "metadata": {
        "id": "xlLm5mFOstfP",
        "outputId": "57034dd3-a414-482e-c64b-97353a200ac0",
        "colab": {
          "base_uri": "https://localhost:8080/",
          "height": 1000
        }
      },
      "execution_count": 133,
      "outputs": [
        {
          "output_type": "display_data",
          "data": {
            "text/plain": [
              "<IPython.core.display.HTML object>"
            ],
            "text/html": [
              "\n",
              "<style>\n",
              "    /* Turns off some styling */\n",
              "    progress {\n",
              "        /* gets rid of default border in Firefox and Opera. */\n",
              "        border: none;\n",
              "        /* Needs to be in here for Safari polyfill so background images work as expected. */\n",
              "        background-size: auto;\n",
              "    }\n",
              "    progress:not([value]), progress:not([value])::-webkit-progress-bar {\n",
              "        background: repeating-linear-gradient(45deg, #7e7e7e, #7e7e7e 10px, #5c5c5c 10px, #5c5c5c 20px);\n",
              "    }\n",
              "    .progress-bar-interrupted, .progress-bar-interrupted::-webkit-progress-bar {\n",
              "        background: #F44336;\n",
              "    }\n",
              "</style>\n"
            ]
          },
          "metadata": {}
        },
        {
          "output_type": "display_data",
          "data": {
            "text/plain": [
              "<IPython.core.display.HTML object>"
            ],
            "text/html": [
              "<table border=\"1\" class=\"dataframe\">\n",
              "  <thead>\n",
              "    <tr style=\"text-align: left;\">\n",
              "      <th>epoch</th>\n",
              "      <th>train_loss</th>\n",
              "      <th>valid_loss</th>\n",
              "      <th>batch_accuracy</th>\n",
              "      <th>time</th>\n",
              "    </tr>\n",
              "  </thead>\n",
              "  <tbody>\n",
              "    <tr>\n",
              "      <td>0</td>\n",
              "      <td>0.282075</td>\n",
              "      <td>0.411341</td>\n",
              "      <td>0.504907</td>\n",
              "      <td>00:01</td>\n",
              "    </tr>\n",
              "    <tr>\n",
              "      <td>1</td>\n",
              "      <td>0.136028</td>\n",
              "      <td>0.215963</td>\n",
              "      <td>0.816487</td>\n",
              "      <td>00:00</td>\n",
              "    </tr>\n",
              "    <tr>\n",
              "      <td>2</td>\n",
              "      <td>0.076921</td>\n",
              "      <td>0.111297</td>\n",
              "      <td>0.918057</td>\n",
              "      <td>00:02</td>\n",
              "    </tr>\n",
              "    <tr>\n",
              "      <td>3</td>\n",
              "      <td>0.051557</td>\n",
              "      <td>0.076208</td>\n",
              "      <td>0.943081</td>\n",
              "      <td>00:00</td>\n",
              "    </tr>\n",
              "    <tr>\n",
              "      <td>4</td>\n",
              "      <td>0.039615</td>\n",
              "      <td>0.059856</td>\n",
              "      <td>0.956820</td>\n",
              "      <td>00:00</td>\n",
              "    </tr>\n",
              "    <tr>\n",
              "      <td>5</td>\n",
              "      <td>0.033398</td>\n",
              "      <td>0.050580</td>\n",
              "      <td>0.964671</td>\n",
              "      <td>00:00</td>\n",
              "    </tr>\n",
              "    <tr>\n",
              "      <td>6</td>\n",
              "      <td>0.029756</td>\n",
              "      <td>0.044700</td>\n",
              "      <td>0.966634</td>\n",
              "      <td>00:00</td>\n",
              "    </tr>\n",
              "    <tr>\n",
              "      <td>7</td>\n",
              "      <td>0.027356</td>\n",
              "      <td>0.040660</td>\n",
              "      <td>0.967125</td>\n",
              "      <td>00:00</td>\n",
              "    </tr>\n",
              "    <tr>\n",
              "      <td>8</td>\n",
              "      <td>0.025615</td>\n",
              "      <td>0.037718</td>\n",
              "      <td>0.969087</td>\n",
              "      <td>00:00</td>\n",
              "    </tr>\n",
              "    <tr>\n",
              "      <td>9</td>\n",
              "      <td>0.024263</td>\n",
              "      <td>0.035478</td>\n",
              "      <td>0.970559</td>\n",
              "      <td>00:00</td>\n",
              "    </tr>\n",
              "    <tr>\n",
              "      <td>10</td>\n",
              "      <td>0.023168</td>\n",
              "      <td>0.033699</td>\n",
              "      <td>0.972522</td>\n",
              "      <td>00:00</td>\n",
              "    </tr>\n",
              "    <tr>\n",
              "      <td>11</td>\n",
              "      <td>0.022255</td>\n",
              "      <td>0.032244</td>\n",
              "      <td>0.973994</td>\n",
              "      <td>00:00</td>\n",
              "    </tr>\n",
              "    <tr>\n",
              "      <td>12</td>\n",
              "      <td>0.021478</td>\n",
              "      <td>0.031022</td>\n",
              "      <td>0.974485</td>\n",
              "      <td>00:00</td>\n",
              "    </tr>\n",
              "    <tr>\n",
              "      <td>13</td>\n",
              "      <td>0.020805</td>\n",
              "      <td>0.029973</td>\n",
              "      <td>0.975466</td>\n",
              "      <td>00:00</td>\n",
              "    </tr>\n",
              "    <tr>\n",
              "      <td>14</td>\n",
              "      <td>0.020215</td>\n",
              "      <td>0.029057</td>\n",
              "      <td>0.975957</td>\n",
              "      <td>00:00</td>\n",
              "    </tr>\n",
              "    <tr>\n",
              "      <td>15</td>\n",
              "      <td>0.019692</td>\n",
              "      <td>0.028246</td>\n",
              "      <td>0.976448</td>\n",
              "      <td>00:00</td>\n",
              "    </tr>\n",
              "    <tr>\n",
              "      <td>16</td>\n",
              "      <td>0.019223</td>\n",
              "      <td>0.027523</td>\n",
              "      <td>0.977429</td>\n",
              "      <td>00:00</td>\n",
              "    </tr>\n",
              "    <tr>\n",
              "      <td>17</td>\n",
              "      <td>0.018800</td>\n",
              "      <td>0.026873</td>\n",
              "      <td>0.977920</td>\n",
              "      <td>00:00</td>\n",
              "    </tr>\n",
              "    <tr>\n",
              "      <td>18</td>\n",
              "      <td>0.018415</td>\n",
              "      <td>0.026285</td>\n",
              "      <td>0.977920</td>\n",
              "      <td>00:00</td>\n",
              "    </tr>\n",
              "    <tr>\n",
              "      <td>19</td>\n",
              "      <td>0.018063</td>\n",
              "      <td>0.025750</td>\n",
              "      <td>0.978901</td>\n",
              "      <td>00:00</td>\n",
              "    </tr>\n",
              "    <tr>\n",
              "      <td>20</td>\n",
              "      <td>0.017737</td>\n",
              "      <td>0.025263</td>\n",
              "      <td>0.978901</td>\n",
              "      <td>00:00</td>\n",
              "    </tr>\n",
              "    <tr>\n",
              "      <td>21</td>\n",
              "      <td>0.017437</td>\n",
              "      <td>0.024815</td>\n",
              "      <td>0.979882</td>\n",
              "      <td>00:00</td>\n",
              "    </tr>\n",
              "    <tr>\n",
              "      <td>22</td>\n",
              "      <td>0.017156</td>\n",
              "      <td>0.024403</td>\n",
              "      <td>0.979882</td>\n",
              "      <td>00:00</td>\n",
              "    </tr>\n",
              "    <tr>\n",
              "      <td>23</td>\n",
              "      <td>0.016894</td>\n",
              "      <td>0.024024</td>\n",
              "      <td>0.980373</td>\n",
              "      <td>00:00</td>\n",
              "    </tr>\n",
              "    <tr>\n",
              "      <td>24</td>\n",
              "      <td>0.016648</td>\n",
              "      <td>0.023673</td>\n",
              "      <td>0.980373</td>\n",
              "      <td>00:00</td>\n",
              "    </tr>\n",
              "    <tr>\n",
              "      <td>25</td>\n",
              "      <td>0.016417</td>\n",
              "      <td>0.023347</td>\n",
              "      <td>0.980373</td>\n",
              "      <td>00:00</td>\n",
              "    </tr>\n",
              "    <tr>\n",
              "      <td>26</td>\n",
              "      <td>0.016198</td>\n",
              "      <td>0.023045</td>\n",
              "      <td>0.980864</td>\n",
              "      <td>00:00</td>\n",
              "    </tr>\n",
              "    <tr>\n",
              "      <td>27</td>\n",
              "      <td>0.015991</td>\n",
              "      <td>0.022763</td>\n",
              "      <td>0.980864</td>\n",
              "      <td>00:00</td>\n",
              "    </tr>\n",
              "    <tr>\n",
              "      <td>28</td>\n",
              "      <td>0.015795</td>\n",
              "      <td>0.022501</td>\n",
              "      <td>0.980864</td>\n",
              "      <td>00:00</td>\n",
              "    </tr>\n",
              "    <tr>\n",
              "      <td>29</td>\n",
              "      <td>0.015608</td>\n",
              "      <td>0.022256</td>\n",
              "      <td>0.980864</td>\n",
              "      <td>00:00</td>\n",
              "    </tr>\n",
              "    <tr>\n",
              "      <td>30</td>\n",
              "      <td>0.015431</td>\n",
              "      <td>0.022027</td>\n",
              "      <td>0.980864</td>\n",
              "      <td>00:00</td>\n",
              "    </tr>\n",
              "    <tr>\n",
              "      <td>31</td>\n",
              "      <td>0.015262</td>\n",
              "      <td>0.021812</td>\n",
              "      <td>0.981845</td>\n",
              "      <td>00:00</td>\n",
              "    </tr>\n",
              "    <tr>\n",
              "      <td>32</td>\n",
              "      <td>0.015100</td>\n",
              "      <td>0.021610</td>\n",
              "      <td>0.982336</td>\n",
              "      <td>00:00</td>\n",
              "    </tr>\n",
              "    <tr>\n",
              "      <td>33</td>\n",
              "      <td>0.014945</td>\n",
              "      <td>0.021421</td>\n",
              "      <td>0.981845</td>\n",
              "      <td>00:00</td>\n",
              "    </tr>\n",
              "    <tr>\n",
              "      <td>34</td>\n",
              "      <td>0.014797</td>\n",
              "      <td>0.021242</td>\n",
              "      <td>0.982336</td>\n",
              "      <td>00:00</td>\n",
              "    </tr>\n",
              "    <tr>\n",
              "      <td>35</td>\n",
              "      <td>0.014654</td>\n",
              "      <td>0.021074</td>\n",
              "      <td>0.982336</td>\n",
              "      <td>00:00</td>\n",
              "    </tr>\n",
              "    <tr>\n",
              "      <td>36</td>\n",
              "      <td>0.014517</td>\n",
              "      <td>0.020915</td>\n",
              "      <td>0.982336</td>\n",
              "      <td>00:00</td>\n",
              "    </tr>\n",
              "    <tr>\n",
              "      <td>37</td>\n",
              "      <td>0.014385</td>\n",
              "      <td>0.020764</td>\n",
              "      <td>0.981845</td>\n",
              "      <td>00:00</td>\n",
              "    </tr>\n",
              "    <tr>\n",
              "      <td>38</td>\n",
              "      <td>0.014258</td>\n",
              "      <td>0.020621</td>\n",
              "      <td>0.982336</td>\n",
              "      <td>00:00</td>\n",
              "    </tr>\n",
              "    <tr>\n",
              "      <td>39</td>\n",
              "      <td>0.014135</td>\n",
              "      <td>0.020486</td>\n",
              "      <td>0.982336</td>\n",
              "      <td>00:00</td>\n",
              "    </tr>\n",
              "  </tbody>\n",
              "</table>"
            ]
          },
          "metadata": {}
        }
      ]
    },
    {
      "cell_type": "code",
      "source": [
        "plt.plot(L(learn.recorder.values).itemgot(2));"
      ],
      "metadata": {
        "id": "v55Et2KNsvR0",
        "outputId": "5e1e40b2-5fa7-4dc5-bb95-2079791682d3",
        "colab": {
          "base_uri": "https://localhost:8080/",
          "height": 271
        }
      },
      "execution_count": 134,
      "outputs": [
        {
          "output_type": "display_data",
          "data": {
            "text/plain": [
              "<Figure size 432x288 with 1 Axes>"
            ],
            "image/png": "[encoded data removed]"
          },
          "metadata": {
            "needs_background": "light"
          }
        }
      ]
    },
    {
      "cell_type": "code",
      "source": [
        "learn.recorder.values[-1][2]"
      ],
      "metadata": {
        "id": "9ytHdhSes8Pt",
        "outputId": "9aaf74c4-0d0a-422e-b350-84b159f563b3",
        "colab": {
          "base_uri": "https://localhost:8080/"
        }
      },
      "execution_count": 135,
      "outputs": [
        {
          "output_type": "execute_result",
          "data": {
            "text/plain": [
              "0.98233562707901"
            ]
          },
          "metadata": {},
          "execution_count": 135
        }
      ]
    },
    {
      "cell_type": "code",
      "source": [
        "dls = ImageDataLoaders.from_folder(path)\n",
        "learn = cnn_learner(dls, resnet18, pretrained = False, loss_func = F.cross_entropy, metrics = accuracy)\n",
        "learn.fit_one_cycle(1, 0.1)"
      ],
      "metadata": {
        "id": "7KksvdlEtBmX",
        "outputId": "afc7a608-7951-4f8a-8f40-2d96ed344fa6",
        "colab": {
          "base_uri": "https://localhost:8080/",
          "height": 205
        }
      },
      "execution_count": 136,
      "outputs": [
        {
          "output_type": "stream",
          "name": "stderr",
          "text": [
            "/usr/local/lib/python3.8/dist-packages/fastai/vision/learner.py:288: UserWarning: `cnn_learner` has been renamed to `vision_learner` -- please update your code\n",
            "  warn(\"`cnn_learner` has been renamed to `vision_learner` -- please update your code\")\n",
            "/usr/local/lib/python3.8/dist-packages/torchvision/models/_utils.py:208: UserWarning: The parameter 'pretrained' is deprecated since 0.13 and may be removed in the future, please use 'weights' instead.\n",
            "  warnings.warn(\n",
            "/usr/local/lib/python3.8/dist-packages/torchvision/models/_utils.py:223: UserWarning: Arguments other than a weight enum or `None` for 'weights' are deprecated since 0.13 and may be removed in the future. The current behavior is equivalent to passing `weights=None`.\n",
            "  warnings.warn(msg)\n"
          ]
        },
        {
          "output_type": "display_data",
          "data": {
            "text/plain": [
              "<IPython.core.display.HTML object>"
            ],
            "text/html": [
              "\n",
              "<style>\n",
              "    /* Turns off some styling */\n",
              "    progress {\n",
              "        /* gets rid of default border in Firefox and Opera. */\n",
              "        border: none;\n",
              "        /* Needs to be in here for Safari polyfill so background images work as expected. */\n",
              "        background-size: auto;\n",
              "    }\n",
              "    progress:not([value]), progress:not([value])::-webkit-progress-bar {\n",
              "        background: repeating-linear-gradient(45deg, #7e7e7e, #7e7e7e 10px, #5c5c5c 10px, #5c5c5c 20px);\n",
              "    }\n",
              "    .progress-bar-interrupted, .progress-bar-interrupted::-webkit-progress-bar {\n",
              "        background: #F44336;\n",
              "    }\n",
              "</style>\n"
            ]
          },
          "metadata": {}
        },
        {
          "output_type": "display_data",
          "data": {
            "text/plain": [
              "<IPython.core.display.HTML object>"
            ],
            "text/html": [
              "<table border=\"1\" class=\"dataframe\">\n",
              "  <thead>\n",
              "    <tr style=\"text-align: left;\">\n",
              "      <th>epoch</th>\n",
              "      <th>train_loss</th>\n",
              "      <th>valid_loss</th>\n",
              "      <th>accuracy</th>\n",
              "      <th>time</th>\n",
              "    </tr>\n",
              "  </thead>\n",
              "  <tbody>\n",
              "    <tr>\n",
              "      <td>0</td>\n",
              "      <td>0.119544</td>\n",
              "      <td>0.013515</td>\n",
              "      <td>0.994112</td>\n",
              "      <td>02:51</td>\n",
              "    </tr>\n",
              "  </tbody>\n",
              "</table>"
            ]
          },
          "metadata": {}
        }
      ]
    },
    {
      "cell_type": "code",
      "source": [],
      "metadata": {
        "id": "wU3kVVxBt09B"
      },
      "execution_count": null,
      "outputs": []
    }
  ]
}